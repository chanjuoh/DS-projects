{
  "cells": [
    {
      "cell_type": "markdown",
      "metadata": {
        "id": "0_lEuDL4JSNB"
      },
      "source": [
        "# Project: Insurance Policy Cancellation (DS)\n",
        "---------------------------------------------"
      ]
    },
    {
      "cell_type": "markdown",
      "metadata": {
        "id": "NSQWgmi5P5ad"
      },
      "source": [
        "**Dr. Dave Wanik - OPIM 5512: Data Science Using Python - University of Connecticut**\n",
        "\n",
        "*This dataset comes from the 2022 NESS Statathon (Theme 1) from 2022. An archived version of the website and related data has been posted on HuskyCT.*"
      ]
    },
    {
      "cell_type": "markdown",
      "metadata": {
        "id": "gwjL6cYoI4Va"
      },
      "source": [
        "**Challenge:** Using historical policy data, create a multiclass predictive model to predict the policies that are most likely to be canceled and those most likely to be renewed, as well as understand what variables are most influential in causing a policy cancellation.\n",
        "\n",
        "For this theme, there are true answers, and a team should focus on proposing the best predictive model. The performance of a team will be mainly based on the predictive performance of the propose method measured by accuracy and the quality of the code. You can use Python's weighted F1 score to calculate the performance of for your model on the test partition.\n",
        "  * Make sure you use the 'weighted' F1 score\n",
        "    * https://scikit-learn.org/stable/modules/generated/sklearn.metrics.f1_score.html"
      ]
    },
    {
      "cell_type": "markdown",
      "metadata": {
        "id": "ACRLrWJPPhDD"
      },
      "source": [
        "# Dataset Description\n",
        "The Kangaroo data set is based on 4 years of property insurance policies from 2013 to 2017. There are roughly 1 million policies in the training data and each policy only has one observation. There were almost 230,000 policies canceled during the effective term. Your work is to build a model on the training data and use your best model to predict the cancelation indicator for each policy in test data.\n",
        "\n",
        "Variable descriptions\n",
        "* id - Policy id (cannot be used in model)\n",
        "* tenure - Number of years with Kangaroo\n",
        "* claim.ind - Occurrence of claim (0=no, 1=yes)\n",
        "* n.adults - Number of adults in the property\n",
        "* n.children - Number of children in the property\n",
        "* ni.gender - Gender of policyholder\n",
        "* ni.marital.status - Marital status of policyholder (0=no, 1=yes)\n",
        "* premium - Price of the policy\n",
        "* sales.channel - Medium through which policy was purchased\n",
        "* coverage.type - Type of coverage\n",
        "* dwelling.type - Type of dwelling\n",
        "* len.at.res - Length at residence (how long policyholder lived at property)\n",
        "* credit - Financial credit level of policyholder\n",
        "* house.color - Color of house\n",
        "* ni.age - Age of policholder\n",
        "* year - Year of the policy\n",
        "* zip.code - Zip code of the property\n",
        "* cancel - cancelation indicator (0=not cancel, 1=may cancel but can be convinced, 2=cancel). **This is the response variable.** Dave is deleting the rows where `cancel==-1`!"
      ]
    },
    {
      "cell_type": "markdown",
      "source": [
        "The train and test files have also been made available to students for modeling on HuskyCT."
      ],
      "metadata": {
        "id": "Ka8lEsJMKh_5"
      }
    },
    {
      "cell_type": "code",
      "source": [
        "# https://drive.google.com/file/d/1cF4YgsHb6jWoM8s1oMckCE5DXz71dJIr/view?usp=share_link\n",
        "# https://drive.google.com/file/d/1k8asF0dptYNn1DFkylSEpr0D9FstpIO4/view?usp=share_link\n",
        "# https://drive.google.com/file/d/1KdOq5IQiwvpTy1XpAp9CLn7zXgFGNq9k/view?usp=share_link\n",
        "# https://drive.google.com/file/d/1VirvGGFaqg1ifPjgO0MzHg3Bc7KuwotG/view?usp=share_link\n",
        "\n",
        "!gdown 1cF4YgsHb6jWoM8s1oMckCE5DXz71dJIr\n",
        "!gdown 1k8asF0dptYNn1DFkylSEpr0D9FstpIO4\n",
        "!gdown 1KdOq5IQiwvpTy1XpAp9CLn7zXgFGNq9k\n",
        "!gdown 1VirvGGFaqg1ifPjgO0MzHg3Bc7KuwotG"
      ],
      "metadata": {
        "colab": {
          "base_uri": "https://localhost:8080/"
        },
        "id": "EANyiNl8RpFe",
        "outputId": "29a73e58-26de-418c-c07b-6d4ef1db515c"
      },
      "execution_count": null,
      "outputs": [
        {
          "output_type": "stream",
          "name": "stdout",
          "text": [
            "Downloading...\n",
            "From: https://drive.google.com/uc?id=1cF4YgsHb6jWoM8s1oMckCE5DXz71dJIr\n",
            "To: /content/X_test.csv\n",
            "100% 31.5M/31.5M [00:00<00:00, 181MB/s]\n",
            "Downloading...\n",
            "From: https://drive.google.com/uc?id=1k8asF0dptYNn1DFkylSEpr0D9FstpIO4\n",
            "To: /content/X_train.csv\n",
            "100% 63.9M/63.9M [00:00<00:00, 73.3MB/s]\n",
            "Downloading...\n",
            "From: https://drive.google.com/uc?id=1KdOq5IQiwvpTy1XpAp9CLn7zXgFGNq9k\n",
            "To: /content/y_test.csv\n",
            "100% 690k/690k [00:00<00:00, 44.5MB/s]\n",
            "Downloading...\n",
            "From: https://drive.google.com/uc?id=1VirvGGFaqg1ifPjgO0MzHg3Bc7KuwotG\n",
            "To: /content/y_train.csv\n",
            "100% 1.40M/1.40M [00:00<00:00, 44.5MB/s]\n"
          ]
        }
      ]
    },
    {
      "cell_type": "markdown",
      "metadata": {
        "id": "cILTYnnPIZsk"
      },
      "source": [
        "# Rubric\n",
        "The submitted notebook will serve as both a form of model documentation and business communication - there should be lots of text cells and comments and a nice presentation of your work!"
      ]
    },
    {
      "cell_type": "markdown",
      "source": [
        "## EDA, data cleaning and feature engineering (20 points)\n",
        "* `X_train`, `X_test`, `y_train`, and `y_test` has been provided to all students.\n",
        "  * Any team who does not do this automatically goes into last place - more below!\n",
        "* Explore the data and clean it up as you see fit - make sure you `fit_transform()` on the training data and `transform()` on the test data.\n",
        "  * Any team that has data leakage automatically goes into last place!\n",
        "* Make five meaningful plots and five meaningful tables (most be deeper than simpler univariate plots - we want you to really explore the problem at hand and use this information to make a better model!)\n",
        "* It is up to you whether or not you want to curate the training dataset to get a better fit on the test dataset (for example, if you would like to use some sampling strategy like SMOTE, that's great - just remember that you DON'T change the distribution of the target variable in the test partition.)"
      ],
      "metadata": {
        "id": "bfZGZ_UoEMFw"
      }
    },
    {
      "cell_type": "markdown",
      "source": [
        "EDA part is following the sequence below:\n",
        "1.  Loading a dataset, checking correlations, and distributions\n",
        "2.  Drop unnecessary columns\n",
        "3.  Make dummy variables of categorical variabels\n",
        "4.  Drop missing values in Train dataset\n",
        "5. Impute missing values in Test dataset\n",
        "6. Separate to X_train, X_test, y_train, and y_test\n",
        "7. Min/Max Scaler\n",
        "8. PCA to reduce dimension\n",
        "9. Resample with SMOTE\n",
        "10. Done! some useful plots and tables"
      ],
      "metadata": {
        "id": "cJ23aaC2kXoA"
      }
    },
    {
      "cell_type": "markdown",
      "source": [
        "## 1. Loading a dataset, checking correlations, and distributions\n",
        "---\n",
        "\n",
        "\n",
        "\n"
      ],
      "metadata": {
        "id": "Uq6r0FuektjL"
      }
    },
    {
      "cell_type": "markdown",
      "source": [
        "Clean dataset first - drop unnecessary  column and drop  missing values\n",
        "\n",
        "\n",
        "\n",
        "\n",
        "\n"
      ],
      "metadata": {
        "id": "vWhtybr8D8F9"
      }
    },
    {
      "cell_type": "code",
      "source": [
        "# some basic packages\n",
        "import pandas as pd\n",
        "import numpy as np\n",
        "# for resampling, import SMOTE\n",
        "from imblearn.over_sampling import SMOTE\n",
        "from collections import Counter\n",
        "from numpy import where\n",
        "import matplotlib.pyplot as plt\n",
        "# these functions are useful for splitting and normalization\n",
        "from sklearn.preprocessing import  MinMaxScaler\n",
        "from sklearn.decomposition import PCA\n",
        "#Model evaluation\n",
        "from sklearn.model_selection import GridSearchCV\n",
        "from sklearn.model_selection import cross_val_score\n",
        "from sklearn.metrics import classification_report\n",
        "from sklearn.metrics import confusion_matrix\n",
        "from sklearn.metrics import accuracy_score\n",
        "# classification spot check models!\n",
        "from sklearn.linear_model import LogisticRegression\n",
        "from sklearn.tree import DecisionTreeClassifier\n",
        "from sklearn.neighbors import KNeighborsClassifier\n",
        "from sklearn.naive_bayes import GaussianNB\n",
        "\n",
        "# more advanced ensemble models\n",
        "from sklearn.ensemble import RandomForestClassifier\n",
        "from sklearn.ensemble import GradientBoostingClassifier\n",
        "from sklearn.ensemble import ExtraTreesClassifier\n",
        "from sklearn.ensemble import AdaBoostClassifier"
      ],
      "metadata": {
        "id": "WE4LDy_WF8GG"
      },
      "execution_count": null,
      "outputs": []
    },
    {
      "cell_type": "markdown",
      "source": [
        "Load a dataset!"
      ],
      "metadata": {
        "id": "w5J8PCaCgcyr"
      }
    },
    {
      "cell_type": "code",
      "source": [
        "# assign dataset to each partition\n",
        "X_train_df = pd.read_csv('/content/X_train.csv')\n",
        "X_test_df = pd.read_csv('/content/X_test.csv')\n",
        "y_train_df = pd.read_csv('/content/y_train.csv')\n",
        "y_test_df = pd.read_csv('/content/y_test.csv')"
      ],
      "metadata": {
        "id": "m8KbGOxhF954"
      },
      "execution_count": null,
      "outputs": []
    },
    {
      "cell_type": "markdown",
      "source": [
        "Combine X_train & Y_train as Train and X_test & y_test, because we need them as a whole to drop missing values!"
      ],
      "metadata": {
        "id": "dogvKGG0gfDO"
      }
    },
    {
      "cell_type": "code",
      "source": [
        "# combine X and y for now, because I need to see and delete those missing values as a whole.\n",
        "Train = pd.concat([X_train_df, y_train_df], axis=1)\n",
        "Test = pd.concat([X_test_df, y_test_df], axis=1)"
      ],
      "metadata": {
        "id": "rBUk2ywQDUOi"
      },
      "execution_count": null,
      "outputs": []
    },
    {
      "cell_type": "markdown",
      "source": [
        "Correlation check! Let's make a temporary dataframe combining Train and Test dataset as a whole to see the correlation."
      ],
      "metadata": {
        "id": "Jo8spkTu32p6"
      }
    },
    {
      "cell_type": "code",
      "source": [
        "# this is a temporary dataset that we're not gonna use except for correlation check.\n",
        "df = pd.concat([Train, Test], axis=0)"
      ],
      "metadata": {
        "id": "jZQnEi0U4a5S"
      },
      "execution_count": null,
      "outputs": []
    },
    {
      "cell_type": "code",
      "source": [
        "import seaborn as sns\n",
        "corr = df.corr(method='spearman')\n",
        "sns.heatmap(corr,\n",
        "            xticklabels=corr.columns.values,\n",
        "            yticklabels=corr.columns.values)\n",
        "plt.show()"
      ],
      "metadata": {
        "colab": {
          "base_uri": "https://localhost:8080/",
          "height": 590
        },
        "id": "j9XMfGtf31_R",
        "outputId": "d7b658c3-39d5-488a-e6a5-3688b848828f"
      },
      "execution_count": null,
      "outputs": [
        {
          "output_type": "stream",
          "name": "stderr",
          "text": [
            "<ipython-input-6-b9577f03b4c0>:2: FutureWarning: The default value of numeric_only in DataFrame.corr is deprecated. In a future version, it will default to False. Select only valid columns or specify the value of numeric_only to silence this warning.\n",
            "  corr = df.corr(method='spearman')\n"
          ]
        },
        {
          "output_type": "display_data",
          "data": {
            "text/plain": [
              "<Figure size 640x480 with 2 Axes>"
            ],
            "image/png": "[encoded data removed]"
          },
          "metadata": {}
        }
      ]
    },
    {
      "cell_type": "code",
      "source": [
        "corr = df.corr(method='spearman')\n",
        "corr.style.background_gradient(cmap='coolwarm')"
      ],
      "metadata": {
        "colab": {
          "base_uri": "https://localhost:8080/",
          "height": 480
        },
        "id": "2Hm6-xfp4FPn",
        "outputId": "50708f11-9c65-4663-df81-6e23b9fd4370"
      },
      "execution_count": null,
      "outputs": [
        {
          "output_type": "stream",
          "name": "stderr",
          "text": [
            "<ipython-input-7-a8949f93cf72>:1: FutureWarning: The default value of numeric_only in DataFrame.corr is deprecated. In a future version, it will default to False. Select only valid columns or specify the value of numeric_only to silence this warning.\n",
            "  corr = df.corr(method='spearman')\n"
          ]
        },
        {
          "output_type": "execute_result",
          "data": {
            "text/plain": [
              "<pandas.io.formats.style.Styler at 0x7f8e52c07c70>"
            ],
            "text/html": [
              "<style type=\"text/css\">\n",
              "#T_69ded_row0_col0, #T_69ded_row1_col1, #T_69ded_row2_col2, #T_69ded_row3_col3, #T_69ded_row4_col4, #T_69ded_row5_col5, #T_69ded_row6_col6, #T_69ded_row7_col7, #T_69ded_row8_col8, #T_69ded_row9_col9, #T_69ded_row10_col10, #T_69ded_row11_col11 {\n",
              "  background-color: #b40426;\n",
              "  color: #f1f1f1;\n",
              "}\n",
              "#T_69ded_row0_col1, #T_69ded_row0_col5, #T_69ded_row1_col5, #T_69ded_row4_col5, #T_69ded_row7_col6, #T_69ded_row11_col2 {\n",
              "  background-color: #4358cb;\n",
              "  color: #f1f1f1;\n",
              "}\n",
              "#T_69ded_row0_col2, #T_69ded_row0_col7, #T_69ded_row0_col8, #T_69ded_row0_col10, #T_69ded_row1_col2, #T_69ded_row1_col7, #T_69ded_row1_col8, #T_69ded_row1_col10, #T_69ded_row2_col0, #T_69ded_row2_col7, #T_69ded_row2_col8, #T_69ded_row2_col10, #T_69ded_row3_col0, #T_69ded_row3_col2, #T_69ded_row3_col7, #T_69ded_row3_col10, #T_69ded_row3_col11, #T_69ded_row4_col0, #T_69ded_row4_col2, #T_69ded_row4_col7, #T_69ded_row4_col8, #T_69ded_row4_col10, #T_69ded_row5_col0, #T_69ded_row5_col2, #T_69ded_row5_col7, #T_69ded_row5_col8, #T_69ded_row5_col10, #T_69ded_row6_col0, #T_69ded_row6_col2, #T_69ded_row6_col7, #T_69ded_row6_col10, #T_69ded_row7_col0, #T_69ded_row7_col2, #T_69ded_row7_col8, #T_69ded_row7_col10, #T_69ded_row8_col0, #T_69ded_row8_col2, #T_69ded_row8_col7, #T_69ded_row8_col10, #T_69ded_row9_col0, #T_69ded_row9_col2, #T_69ded_row9_col7, #T_69ded_row9_col10, #T_69ded_row10_col0, #T_69ded_row10_col2, #T_69ded_row10_col7, #T_69ded_row10_col8, #T_69ded_row11_col0, #T_69ded_row11_col1, #T_69ded_row11_col3, #T_69ded_row11_col4, #T_69ded_row11_col5, #T_69ded_row11_col6, #T_69ded_row11_col9 {\n",
              "  background-color: #3b4cc0;\n",
              "  color: #f1f1f1;\n",
              "}\n",
              "#T_69ded_row0_col3, #T_69ded_row0_col11, #T_69ded_row1_col3, #T_69ded_row2_col3, #T_69ded_row4_col3, #T_69ded_row5_col3, #T_69ded_row7_col3, #T_69ded_row10_col3 {\n",
              "  background-color: #5875e1;\n",
              "  color: #f1f1f1;\n",
              "}\n",
              "#T_69ded_row0_col4, #T_69ded_row1_col4, #T_69ded_row2_col4, #T_69ded_row3_col4, #T_69ded_row6_col4, #T_69ded_row7_col4, #T_69ded_row8_col4, #T_69ded_row9_col4, #T_69ded_row10_col4 {\n",
              "  background-color: #455cce;\n",
              "  color: #f1f1f1;\n",
              "}\n",
              "#T_69ded_row0_col6, #T_69ded_row0_col9, #T_69ded_row1_col6, #T_69ded_row1_col9, #T_69ded_row2_col1, #T_69ded_row2_col5, #T_69ded_row2_col6, #T_69ded_row2_col9, #T_69ded_row3_col1, #T_69ded_row3_col5, #T_69ded_row4_col1, #T_69ded_row4_col6, #T_69ded_row4_col9, #T_69ded_row5_col1, #T_69ded_row5_col6, #T_69ded_row5_col9, #T_69ded_row6_col1, #T_69ded_row6_col5, #T_69ded_row7_col5, #T_69ded_row7_col9, #T_69ded_row8_col1, #T_69ded_row8_col5, #T_69ded_row9_col5, #T_69ded_row10_col1, #T_69ded_row10_col5, #T_69ded_row10_col6, #T_69ded_row10_col9 {\n",
              "  background-color: #4257c9;\n",
              "  color: #f1f1f1;\n",
              "}\n",
              "#T_69ded_row1_col0 {\n",
              "  background-color: #3c4ec2;\n",
              "  color: #f1f1f1;\n",
              "}\n",
              "#T_69ded_row1_col11, #T_69ded_row9_col11, #T_69ded_row11_col10 {\n",
              "  background-color: #506bda;\n",
              "  color: #f1f1f1;\n",
              "}\n",
              "#T_69ded_row2_col11 {\n",
              "  background-color: #6180e9;\n",
              "  color: #f1f1f1;\n",
              "}\n",
              "#T_69ded_row3_col6 {\n",
              "  background-color: #5673e0;\n",
              "  color: #f1f1f1;\n",
              "}\n",
              "#T_69ded_row3_col8 {\n",
              "  background-color: #5572df;\n",
              "  color: #f1f1f1;\n",
              "}\n",
              "#T_69ded_row3_col9 {\n",
              "  background-color: #f6bea4;\n",
              "  color: #000000;\n",
              "}\n",
              "#T_69ded_row4_col11 {\n",
              "  background-color: #4c66d6;\n",
              "  color: #f1f1f1;\n",
              "}\n",
              "#T_69ded_row5_col4, #T_69ded_row11_col7 {\n",
              "  background-color: #465ecf;\n",
              "  color: #f1f1f1;\n",
              "}\n",
              "#T_69ded_row5_col11, #T_69ded_row6_col11 {\n",
              "  background-color: #4f69d9;\n",
              "  color: #f1f1f1;\n",
              "}\n",
              "#T_69ded_row6_col3 {\n",
              "  background-color: #6b8df0;\n",
              "  color: #f1f1f1;\n",
              "}\n",
              "#T_69ded_row6_col8 {\n",
              "  background-color: #e1dad6;\n",
              "  color: #000000;\n",
              "}\n",
              "#T_69ded_row6_col9, #T_69ded_row9_col6, #T_69ded_row11_col8 {\n",
              "  background-color: #4e68d8;\n",
              "  color: #f1f1f1;\n",
              "}\n",
              "#T_69ded_row7_col1, #T_69ded_row9_col1 {\n",
              "  background-color: #4055c8;\n",
              "  color: #f1f1f1;\n",
              "}\n",
              "#T_69ded_row7_col11 {\n",
              "  background-color: #6384eb;\n",
              "  color: #f1f1f1;\n",
              "}\n",
              "#T_69ded_row8_col3 {\n",
              "  background-color: #7295f4;\n",
              "  color: #f1f1f1;\n",
              "}\n",
              "#T_69ded_row8_col6 {\n",
              "  background-color: #e4d9d2;\n",
              "  color: #000000;\n",
              "}\n",
              "#T_69ded_row8_col9 {\n",
              "  background-color: #516ddb;\n",
              "  color: #f1f1f1;\n",
              "}\n",
              "#T_69ded_row8_col11 {\n",
              "  background-color: #6a8bef;\n",
              "  color: #f1f1f1;\n",
              "}\n",
              "#T_69ded_row9_col3 {\n",
              "  background-color: #f7b599;\n",
              "  color: #000000;\n",
              "}\n",
              "#T_69ded_row9_col8 {\n",
              "  background-color: #4a63d3;\n",
              "  color: #f1f1f1;\n",
              "}\n",
              "#T_69ded_row10_col11 {\n",
              "  background-color: #6c8ff1;\n",
              "  color: #f1f1f1;\n",
              "}\n",
              "</style>\n",
              "<table id=\"T_69ded\" class=\"dataframe\">\n",
              "  <thead>\n",
              "    <tr>\n",
              "      <th class=\"blank level0\" >&nbsp;</th>\n",
              "      <th id=\"T_69ded_level0_col0\" class=\"col_heading level0 col0\" >id</th>\n",
              "      <th id=\"T_69ded_level0_col1\" class=\"col_heading level0 col1\" >year</th>\n",
              "      <th id=\"T_69ded_level0_col2\" class=\"col_heading level0 col2\" >zip.code</th>\n",
              "      <th id=\"T_69ded_level0_col3\" class=\"col_heading level0 col3\" >ni.age</th>\n",
              "      <th id=\"T_69ded_level0_col4\" class=\"col_heading level0 col4\" >len.at.res</th>\n",
              "      <th id=\"T_69ded_level0_col5\" class=\"col_heading level0 col5\" >premium</th>\n",
              "      <th id=\"T_69ded_level0_col6\" class=\"col_heading level0 col6\" >ni.marital.status</th>\n",
              "      <th id=\"T_69ded_level0_col7\" class=\"col_heading level0 col7\" >n.adults</th>\n",
              "      <th id=\"T_69ded_level0_col8\" class=\"col_heading level0 col8\" >n.children</th>\n",
              "      <th id=\"T_69ded_level0_col9\" class=\"col_heading level0 col9\" >tenure</th>\n",
              "      <th id=\"T_69ded_level0_col10\" class=\"col_heading level0 col10\" >claim.ind</th>\n",
              "      <th id=\"T_69ded_level0_col11\" class=\"col_heading level0 col11\" >cancel</th>\n",
              "    </tr>\n",
              "  </thead>\n",
              "  <tbody>\n",
              "    <tr>\n",
              "      <th id=\"T_69ded_level0_row0\" class=\"row_heading level0 row0\" >id</th>\n",
              "      <td id=\"T_69ded_row0_col0\" class=\"data row0 col0\" >1.000000</td>\n",
              "      <td id=\"T_69ded_row0_col1\" class=\"data row0 col1\" >0.004133</td>\n",
              "      <td id=\"T_69ded_row0_col2\" class=\"data row0 col2\" >0.000120</td>\n",
              "      <td id=\"T_69ded_row0_col3\" class=\"data row0 col3\" >0.000254</td>\n",
              "      <td id=\"T_69ded_row0_col4\" class=\"data row0 col4\" >-0.001411</td>\n",
              "      <td id=\"T_69ded_row0_col5\" class=\"data row0 col5\" >0.001218</td>\n",
              "      <td id=\"T_69ded_row0_col6\" class=\"data row0 col6\" >0.000267</td>\n",
              "      <td id=\"T_69ded_row0_col7\" class=\"data row0 col7\" >0.000103</td>\n",
              "      <td id=\"T_69ded_row0_col8\" class=\"data row0 col8\" >0.001891</td>\n",
              "      <td id=\"T_69ded_row0_col9\" class=\"data row0 col9\" >0.000107</td>\n",
              "      <td id=\"T_69ded_row0_col10\" class=\"data row0 col10\" >0.000537</td>\n",
              "      <td id=\"T_69ded_row0_col11\" class=\"data row0 col11\" >0.000128</td>\n",
              "    </tr>\n",
              "    <tr>\n",
              "      <th id=\"T_69ded_level0_row1\" class=\"row_heading level0 row1\" >year</th>\n",
              "      <td id=\"T_69ded_row1_col0\" class=\"data row1 col0\" >0.004133</td>\n",
              "      <td id=\"T_69ded_row1_col1\" class=\"data row1 col1\" >1.000000</td>\n",
              "      <td id=\"T_69ded_row1_col2\" class=\"data row1 col2\" >0.000799</td>\n",
              "      <td id=\"T_69ded_row1_col3\" class=\"data row1 col3\" >-0.000159</td>\n",
              "      <td id=\"T_69ded_row1_col4\" class=\"data row1 col4\" >-0.000411</td>\n",
              "      <td id=\"T_69ded_row1_col5\" class=\"data row1 col5\" >0.001089</td>\n",
              "      <td id=\"T_69ded_row1_col6\" class=\"data row1 col6\" >0.000183</td>\n",
              "      <td id=\"T_69ded_row1_col7\" class=\"data row1 col7\" >-0.000926</td>\n",
              "      <td id=\"T_69ded_row1_col8\" class=\"data row1 col8\" >0.000928</td>\n",
              "      <td id=\"T_69ded_row1_col9\" class=\"data row1 col9\" >-0.001377</td>\n",
              "      <td id=\"T_69ded_row1_col10\" class=\"data row1 col10\" >0.000543</td>\n",
              "      <td id=\"T_69ded_row1_col11\" class=\"data row1 col11\" >-0.024452</td>\n",
              "    </tr>\n",
              "    <tr>\n",
              "      <th id=\"T_69ded_level0_row2\" class=\"row_heading level0 row2\" >zip.code</th>\n",
              "      <td id=\"T_69ded_row2_col0\" class=\"data row2 col0\" >0.000120</td>\n",
              "      <td id=\"T_69ded_row2_col1\" class=\"data row2 col1\" >0.000799</td>\n",
              "      <td id=\"T_69ded_row2_col2\" class=\"data row2 col2\" >1.000000</td>\n",
              "      <td id=\"T_69ded_row2_col3\" class=\"data row2 col3\" >0.000225</td>\n",
              "      <td id=\"T_69ded_row2_col4\" class=\"data row2 col4\" >-0.000431</td>\n",
              "      <td id=\"T_69ded_row2_col5\" class=\"data row2 col5\" >-0.000039</td>\n",
              "      <td id=\"T_69ded_row2_col6\" class=\"data row2 col6\" >-0.000730</td>\n",
              "      <td id=\"T_69ded_row2_col7\" class=\"data row2 col7\" >0.000532</td>\n",
              "      <td id=\"T_69ded_row2_col8\" class=\"data row2 col8\" >0.000355</td>\n",
              "      <td id=\"T_69ded_row2_col9\" class=\"data row2 col9\" >0.000224</td>\n",
              "      <td id=\"T_69ded_row2_col10\" class=\"data row2 col10\" >-0.000997</td>\n",
              "      <td id=\"T_69ded_row2_col11\" class=\"data row2 col11\" >0.030254</td>\n",
              "    </tr>\n",
              "    <tr>\n",
              "      <th id=\"T_69ded_level0_row3\" class=\"row_heading level0 row3\" >ni.age</th>\n",
              "      <td id=\"T_69ded_row3_col0\" class=\"data row3 col0\" >0.000254</td>\n",
              "      <td id=\"T_69ded_row3_col1\" class=\"data row3 col1\" >-0.000159</td>\n",
              "      <td id=\"T_69ded_row3_col2\" class=\"data row3 col2\" >0.000225</td>\n",
              "      <td id=\"T_69ded_row3_col3\" class=\"data row3 col3\" >1.000000</td>\n",
              "      <td id=\"T_69ded_row3_col4\" class=\"data row3 col4\" >0.000298</td>\n",
              "      <td id=\"T_69ded_row3_col5\" class=\"data row3 col5\" >-0.000043</td>\n",
              "      <td id=\"T_69ded_row3_col6\" class=\"data row3 col6\" >0.065256</td>\n",
              "      <td id=\"T_69ded_row3_col7\" class=\"data row3 col7\" >-0.001060</td>\n",
              "      <td id=\"T_69ded_row3_col8\" class=\"data row3 col8\" >0.085562</td>\n",
              "      <td id=\"T_69ded_row3_col9\" class=\"data row3 col9\" >0.637920</td>\n",
              "      <td id=\"T_69ded_row3_col10\" class=\"data row3 col10\" >0.002010</td>\n",
              "      <td id=\"T_69ded_row3_col11\" class=\"data row3 col11\" >-0.105310</td>\n",
              "    </tr>\n",
              "    <tr>\n",
              "      <th id=\"T_69ded_level0_row4\" class=\"row_heading level0 row4\" >len.at.res</th>\n",
              "      <td id=\"T_69ded_row4_col0\" class=\"data row4 col0\" >-0.001411</td>\n",
              "      <td id=\"T_69ded_row4_col1\" class=\"data row4 col1\" >-0.000411</td>\n",
              "      <td id=\"T_69ded_row4_col2\" class=\"data row4 col2\" >-0.000431</td>\n",
              "      <td id=\"T_69ded_row4_col3\" class=\"data row4 col3\" >0.000298</td>\n",
              "      <td id=\"T_69ded_row4_col4\" class=\"data row4 col4\" >1.000000</td>\n",
              "      <td id=\"T_69ded_row4_col5\" class=\"data row4 col5\" >0.001901</td>\n",
              "      <td id=\"T_69ded_row4_col6\" class=\"data row4 col6\" >-0.001598</td>\n",
              "      <td id=\"T_69ded_row4_col7\" class=\"data row4 col7\" >-0.000381</td>\n",
              "      <td id=\"T_69ded_row4_col8\" class=\"data row4 col8\" >-0.001131</td>\n",
              "      <td id=\"T_69ded_row4_col9\" class=\"data row4 col9\" >-0.001173</td>\n",
              "      <td id=\"T_69ded_row4_col10\" class=\"data row4 col10\" >0.000046</td>\n",
              "      <td id=\"T_69ded_row4_col11\" class=\"data row4 col11\" >-0.039478</td>\n",
              "    </tr>\n",
              "    <tr>\n",
              "      <th id=\"T_69ded_level0_row5\" class=\"row_heading level0 row5\" >premium</th>\n",
              "      <td id=\"T_69ded_row5_col0\" class=\"data row5 col0\" >0.001218</td>\n",
              "      <td id=\"T_69ded_row5_col1\" class=\"data row5 col1\" >0.001089</td>\n",
              "      <td id=\"T_69ded_row5_col2\" class=\"data row5 col2\" >-0.000039</td>\n",
              "      <td id=\"T_69ded_row5_col3\" class=\"data row5 col3\" >-0.000043</td>\n",
              "      <td id=\"T_69ded_row5_col4\" class=\"data row5 col4\" >0.001901</td>\n",
              "      <td id=\"T_69ded_row5_col5\" class=\"data row5 col5\" >1.000000</td>\n",
              "      <td id=\"T_69ded_row5_col6\" class=\"data row5 col6\" >-0.000516</td>\n",
              "      <td id=\"T_69ded_row5_col7\" class=\"data row5 col7\" >-0.001081</td>\n",
              "      <td id=\"T_69ded_row5_col8\" class=\"data row5 col8\" >-0.000873</td>\n",
              "      <td id=\"T_69ded_row5_col9\" class=\"data row5 col9\" >-0.001172</td>\n",
              "      <td id=\"T_69ded_row5_col10\" class=\"data row5 col10\" >-0.000516</td>\n",
              "      <td id=\"T_69ded_row5_col11\" class=\"data row5 col11\" >-0.027599</td>\n",
              "    </tr>\n",
              "    <tr>\n",
              "      <th id=\"T_69ded_level0_row6\" class=\"row_heading level0 row6\" >ni.marital.status</th>\n",
              "      <td id=\"T_69ded_row6_col0\" class=\"data row6 col0\" >0.000267</td>\n",
              "      <td id=\"T_69ded_row6_col1\" class=\"data row6 col1\" >0.000183</td>\n",
              "      <td id=\"T_69ded_row6_col2\" class=\"data row6 col2\" >-0.000730</td>\n",
              "      <td id=\"T_69ded_row6_col3\" class=\"data row6 col3\" >0.065256</td>\n",
              "      <td id=\"T_69ded_row6_col4\" class=\"data row6 col4\" >-0.001598</td>\n",
              "      <td id=\"T_69ded_row6_col5\" class=\"data row6 col5\" >-0.000516</td>\n",
              "      <td id=\"T_69ded_row6_col6\" class=\"data row6 col6\" >1.000000</td>\n",
              "      <td id=\"T_69ded_row6_col7\" class=\"data row6 col7\" >0.000382</td>\n",
              "      <td id=\"T_69ded_row6_col8\" class=\"data row6 col8\" >0.515083</td>\n",
              "      <td id=\"T_69ded_row6_col9\" class=\"data row6 col9\" >0.038403</td>\n",
              "      <td id=\"T_69ded_row6_col10\" class=\"data row6 col10\" >-0.001355</td>\n",
              "      <td id=\"T_69ded_row6_col11\" class=\"data row6 col11\" >-0.027818</td>\n",
              "    </tr>\n",
              "    <tr>\n",
              "      <th id=\"T_69ded_level0_row7\" class=\"row_heading level0 row7\" >n.adults</th>\n",
              "      <td id=\"T_69ded_row7_col0\" class=\"data row7 col0\" >0.000103</td>\n",
              "      <td id=\"T_69ded_row7_col1\" class=\"data row7 col1\" >-0.000926</td>\n",
              "      <td id=\"T_69ded_row7_col2\" class=\"data row7 col2\" >0.000532</td>\n",
              "      <td id=\"T_69ded_row7_col3\" class=\"data row7 col3\" >-0.001060</td>\n",
              "      <td id=\"T_69ded_row7_col4\" class=\"data row7 col4\" >-0.000381</td>\n",
              "      <td id=\"T_69ded_row7_col5\" class=\"data row7 col5\" >-0.001081</td>\n",
              "      <td id=\"T_69ded_row7_col6\" class=\"data row7 col6\" >0.000382</td>\n",
              "      <td id=\"T_69ded_row7_col7\" class=\"data row7 col7\" >1.000000</td>\n",
              "      <td id=\"T_69ded_row7_col8\" class=\"data row7 col8\" >-0.000875</td>\n",
              "      <td id=\"T_69ded_row7_col9\" class=\"data row7 col9\" >-0.001320</td>\n",
              "      <td id=\"T_69ded_row7_col10\" class=\"data row7 col10\" >0.000213</td>\n",
              "      <td id=\"T_69ded_row7_col11\" class=\"data row7 col11\" >0.038286</td>\n",
              "    </tr>\n",
              "    <tr>\n",
              "      <th id=\"T_69ded_level0_row8\" class=\"row_heading level0 row8\" >n.children</th>\n",
              "      <td id=\"T_69ded_row8_col0\" class=\"data row8 col0\" >0.001891</td>\n",
              "      <td id=\"T_69ded_row8_col1\" class=\"data row8 col1\" >0.000928</td>\n",
              "      <td id=\"T_69ded_row8_col2\" class=\"data row8 col2\" >0.000355</td>\n",
              "      <td id=\"T_69ded_row8_col3\" class=\"data row8 col3\" >0.085562</td>\n",
              "      <td id=\"T_69ded_row8_col4\" class=\"data row8 col4\" >-0.001131</td>\n",
              "      <td id=\"T_69ded_row8_col5\" class=\"data row8 col5\" >-0.000873</td>\n",
              "      <td id=\"T_69ded_row8_col6\" class=\"data row8 col6\" >0.515083</td>\n",
              "      <td id=\"T_69ded_row8_col7\" class=\"data row8 col7\" >-0.000875</td>\n",
              "      <td id=\"T_69ded_row8_col8\" class=\"data row8 col8\" >1.000000</td>\n",
              "      <td id=\"T_69ded_row8_col9\" class=\"data row8 col9\" >0.051134</td>\n",
              "      <td id=\"T_69ded_row8_col10\" class=\"data row8 col10\" >-0.001139</td>\n",
              "      <td id=\"T_69ded_row8_col11\" class=\"data row8 col11\" >0.061811</td>\n",
              "    </tr>\n",
              "    <tr>\n",
              "      <th id=\"T_69ded_level0_row9\" class=\"row_heading level0 row9\" >tenure</th>\n",
              "      <td id=\"T_69ded_row9_col0\" class=\"data row9 col0\" >0.000107</td>\n",
              "      <td id=\"T_69ded_row9_col1\" class=\"data row9 col1\" >-0.001377</td>\n",
              "      <td id=\"T_69ded_row9_col2\" class=\"data row9 col2\" >0.000224</td>\n",
              "      <td id=\"T_69ded_row9_col3\" class=\"data row9 col3\" >0.637920</td>\n",
              "      <td id=\"T_69ded_row9_col4\" class=\"data row9 col4\" >-0.001173</td>\n",
              "      <td id=\"T_69ded_row9_col5\" class=\"data row9 col5\" >-0.001172</td>\n",
              "      <td id=\"T_69ded_row9_col6\" class=\"data row9 col6\" >0.038403</td>\n",
              "      <td id=\"T_69ded_row9_col7\" class=\"data row9 col7\" >-0.001320</td>\n",
              "      <td id=\"T_69ded_row9_col8\" class=\"data row9 col8\" >0.051134</td>\n",
              "      <td id=\"T_69ded_row9_col9\" class=\"data row9 col9\" >1.000000</td>\n",
              "      <td id=\"T_69ded_row9_col10\" class=\"data row9 col10\" >0.000839</td>\n",
              "      <td id=\"T_69ded_row9_col11\" class=\"data row9 col11\" >-0.026298</td>\n",
              "    </tr>\n",
              "    <tr>\n",
              "      <th id=\"T_69ded_level0_row10\" class=\"row_heading level0 row10\" >claim.ind</th>\n",
              "      <td id=\"T_69ded_row10_col0\" class=\"data row10 col0\" >0.000537</td>\n",
              "      <td id=\"T_69ded_row10_col1\" class=\"data row10 col1\" >0.000543</td>\n",
              "      <td id=\"T_69ded_row10_col2\" class=\"data row10 col2\" >-0.000997</td>\n",
              "      <td id=\"T_69ded_row10_col3\" class=\"data row10 col3\" >0.002010</td>\n",
              "      <td id=\"T_69ded_row10_col4\" class=\"data row10 col4\" >0.000046</td>\n",
              "      <td id=\"T_69ded_row10_col5\" class=\"data row10 col5\" >-0.000516</td>\n",
              "      <td id=\"T_69ded_row10_col6\" class=\"data row10 col6\" >-0.001355</td>\n",
              "      <td id=\"T_69ded_row10_col7\" class=\"data row10 col7\" >0.000213</td>\n",
              "      <td id=\"T_69ded_row10_col8\" class=\"data row10 col8\" >-0.001139</td>\n",
              "      <td id=\"T_69ded_row10_col9\" class=\"data row10 col9\" >0.000839</td>\n",
              "      <td id=\"T_69ded_row10_col10\" class=\"data row10 col10\" >1.000000</td>\n",
              "      <td id=\"T_69ded_row10_col11\" class=\"data row10 col11\" >0.070581</td>\n",
              "    </tr>\n",
              "    <tr>\n",
              "      <th id=\"T_69ded_level0_row11\" class=\"row_heading level0 row11\" >cancel</th>\n",
              "      <td id=\"T_69ded_row11_col0\" class=\"data row11 col0\" >0.000128</td>\n",
              "      <td id=\"T_69ded_row11_col1\" class=\"data row11 col1\" >-0.024452</td>\n",
              "      <td id=\"T_69ded_row11_col2\" class=\"data row11 col2\" >0.030254</td>\n",
              "      <td id=\"T_69ded_row11_col3\" class=\"data row11 col3\" >-0.105310</td>\n",
              "      <td id=\"T_69ded_row11_col4\" class=\"data row11 col4\" >-0.039478</td>\n",
              "      <td id=\"T_69ded_row11_col5\" class=\"data row11 col5\" >-0.027599</td>\n",
              "      <td id=\"T_69ded_row11_col6\" class=\"data row11 col6\" >-0.027818</td>\n",
              "      <td id=\"T_69ded_row11_col7\" class=\"data row11 col7\" >0.038286</td>\n",
              "      <td id=\"T_69ded_row11_col8\" class=\"data row11 col8\" >0.061811</td>\n",
              "      <td id=\"T_69ded_row11_col9\" class=\"data row11 col9\" >-0.026298</td>\n",
              "      <td id=\"T_69ded_row11_col10\" class=\"data row11 col10\" >0.070581</td>\n",
              "      <td id=\"T_69ded_row11_col11\" class=\"data row11 col11\" >1.000000</td>\n",
              "    </tr>\n",
              "  </tbody>\n",
              "</table>\n"
            ]
          },
          "metadata": {},
          "execution_count": 7
        }
      ]
    },
    {
      "cell_type": "markdown",
      "source": [
        "As the dataset description says, id should be dropped because it barely has correlation with any column.\n",
        "\n",
        "A few noticeable correlations are that ni.age & tenure, n.children & ni.lmarital.status\n",
        "\n",
        "what does that mean?\n",
        "\n",
        "> ni.age & tenure\n",
        "\n",
        "ni.age - Age of policy holder\n",
        "\n",
        "tenure - Number of years with Kangaroo\n",
        "\n",
        "As the policy holder gets older, the Number of years with Kangaroo increases, which makes sense.\n",
        "\n",
        "> n.children & ni.lmarital.status\n",
        "\n",
        "n.children - Number of children in the property\n",
        "\n",
        "ni.marital.status - Marital status of policyholder (0=no, 1=yes)\n",
        "\n",
        "If the policy holder is married, number of children in the property increases (compared to those who are not married.)"
      ],
      "metadata": {
        "id": "dVTlxnwL8Vub"
      }
    },
    {
      "cell_type": "markdown",
      "source": [
        "Now, which variable has the highest correlation with the target variable, cancel?\n",
        "It seems to be ni.age with a value of -0.105310 (yes, it is negative but it means ni.age and cancel impact negatively!)\n",
        "\n",
        "what does that mean? the younger policy holder, the higher possibility of canceling the policy!"
      ],
      "metadata": {
        "id": "I0jLI6DY_jKg"
      }
    },
    {
      "cell_type": "markdown",
      "source": [
        "Now let's check the distribution of each column."
      ],
      "metadata": {
        "id": "v-sEossBCex9"
      }
    },
    {
      "cell_type": "code",
      "source": [
        "df.hist(figsize=(8,6))\n",
        "plt.tight_layout()\n",
        "plt.show()"
      ],
      "metadata": {
        "colab": {
          "base_uri": "https://localhost:8080/",
          "height": 607
        },
        "id": "3aFhUfNCCdTC",
        "outputId": "433eb73d-9e51-47d3-cb86-6cc106e305eb"
      },
      "execution_count": null,
      "outputs": [
        {
          "output_type": "display_data",
          "data": {
            "text/plain": [
              "<Figure size 800x600 with 12 Axes>"
            ],
            "image/png": "[encoded data removed]"
          },
          "metadata": {}
        }
      ]
    },
    {
      "cell_type": "markdown",
      "source": [
        "## 2. Drop unnecessary column (id)\n",
        "\n",
        "\n",
        "---\n",
        "\n"
      ],
      "metadata": {
        "id": "IIOQCRRn8Rkw"
      }
    },
    {
      "cell_type": "markdown",
      "source": [
        "Drop the unnecessary column."
      ],
      "metadata": {
        "id": "51BBNnslgoci"
      }
    },
    {
      "cell_type": "code",
      "source": [
        "# drop the unnecessary id column, just like the dataset description says!\n",
        "Train = Train.drop(['id'], axis=1)\n",
        "Test = Test.drop(['id'], axis=1)"
      ],
      "metadata": {
        "id": "7MVCqBCoXn5g"
      },
      "execution_count": null,
      "outputs": []
    },
    {
      "cell_type": "markdown",
      "source": [
        "A quick shape check"
      ],
      "metadata": {
        "id": "FIVqkMuwgu6a"
      }
    },
    {
      "cell_type": "code",
      "source": [
        "# check the shape of Train and test\n",
        "print(Train.shape)\n",
        "print(Test.shape)"
      ],
      "metadata": {
        "colab": {
          "base_uri": "https://localhost:8080/"
        },
        "id": "JUXZxWTiWO9h",
        "outputId": "826b3165-f3fe-46f2-b8c2-d62d53bab963"
      },
      "execution_count": null,
      "outputs": [
        {
          "output_type": "stream",
          "name": "stdout",
          "text": [
            "(700232, 17)\n",
            "(344891, 17)\n"
          ]
        }
      ]
    },
    {
      "cell_type": "markdown",
      "source": [
        "## 3. Make dummy variables of categorical variabels\n",
        "\n",
        "---\n",
        "\n"
      ],
      "metadata": {
        "id": "eb7LxCoolrGt"
      }
    },
    {
      "cell_type": "markdown",
      "source": [
        "Now take a look at each column's data type. We need all columns to be numeric for a modeling..."
      ],
      "metadata": {
        "id": "jMLynTjBE81s"
      }
    },
    {
      "cell_type": "code",
      "source": [
        "# check the info for both dataset\n",
        "print(Train.info())\n",
        "print(Test.info())"
      ],
      "metadata": {
        "colab": {
          "base_uri": "https://localhost:8080/"
        },
        "id": "I7WzQKUPqbSw",
        "outputId": "1c563756-ef40-44e8-939e-710c97b490bf"
      },
      "execution_count": null,
      "outputs": [
        {
          "output_type": "stream",
          "name": "stdout",
          "text": [
            "<class 'pandas.core.frame.DataFrame'>\n",
            "RangeIndex: 700232 entries, 0 to 700231\n",
            "Data columns (total 17 columns):\n",
            " #   Column             Non-Null Count   Dtype  \n",
            "---  ------             --------------   -----  \n",
            " 0   year               700232 non-null  int64  \n",
            " 1   zip.code           699601 non-null  float64\n",
            " 2   house.color        699612 non-null  object \n",
            " 3   ni.age             699524 non-null  float64\n",
            " 4   len.at.res         699567 non-null  float64\n",
            " 5   credit             699616 non-null  object \n",
            " 6   coverage.type      699569 non-null  object \n",
            " 7   dwelling.type      699581 non-null  object \n",
            " 8   premium            699608 non-null  float64\n",
            " 9   sales.channel      699536 non-null  object \n",
            " 10  ni.gender          699589 non-null  object \n",
            " 11  ni.marital.status  699585 non-null  float64\n",
            " 12  n.adults           699626 non-null  float64\n",
            " 13  n.children         699616 non-null  float64\n",
            " 14  tenure             699577 non-null  float64\n",
            " 15  claim.ind          699574 non-null  float64\n",
            " 16  cancel             700232 non-null  int64  \n",
            "dtypes: float64(9), int64(2), object(6)\n",
            "memory usage: 90.8+ MB\n",
            "None\n",
            "<class 'pandas.core.frame.DataFrame'>\n",
            "RangeIndex: 344891 entries, 0 to 344890\n",
            "Data columns (total 17 columns):\n",
            " #   Column             Non-Null Count   Dtype  \n",
            "---  ------             --------------   -----  \n",
            " 0   year               344891 non-null  int64  \n",
            " 1   zip.code           344578 non-null  float64\n",
            " 2   house.color        344572 non-null  object \n",
            " 3   ni.age             344598 non-null  float64\n",
            " 4   len.at.res         344596 non-null  float64\n",
            " 5   credit             344602 non-null  object \n",
            " 6   coverage.type      344575 non-null  object \n",
            " 7   dwelling.type      344552 non-null  object \n",
            " 8   premium            344560 non-null  float64\n",
            " 9   sales.channel      344567 non-null  object \n",
            " 10  ni.gender          344577 non-null  object \n",
            " 11  ni.marital.status  344546 non-null  float64\n",
            " 12  n.adults           344568 non-null  float64\n",
            " 13  n.children         344572 non-null  float64\n",
            " 14  tenure             344568 non-null  float64\n",
            " 15  claim.ind          344567 non-null  float64\n",
            " 16  cancel             344891 non-null  int64  \n",
            "dtypes: float64(9), int64(2), object(6)\n",
            "memory usage: 44.7+ MB\n",
            "None\n"
          ]
        }
      ]
    },
    {
      "cell_type": "markdown",
      "source": [
        "I see some categorical variables. I need those to be encoded as dummy variables.\n",
        "But let me check their unique values first!"
      ],
      "metadata": {
        "id": "tmTsBv5ciMOU"
      }
    },
    {
      "cell_type": "code",
      "source": [
        "# I see house.color, credit, coverage.type, dwelling.type, sales.channel, and ni.gender are categorical variable.\n",
        "# let's check their unique values first.\n",
        "print(Train['house.color'].unique())\n",
        "print(Train['credit'].unique())\n",
        "print(Train['coverage.type'].unique())\n",
        "print(Train['dwelling.type'].unique())\n",
        "print(Train['sales.channel'].unique())\n",
        "print(Train['ni.gender'].unique())\n",
        "# from Test dataset\n",
        "print(Test['house.color'].unique())\n",
        "print(Test['credit'].unique())\n",
        "print(Test['coverage.type'].unique())\n",
        "print(Test['dwelling.type'].unique())\n",
        "print(Test['sales.channel'].unique())\n",
        "print(Test['ni.gender'].unique())"
      ],
      "metadata": {
        "colab": {
          "base_uri": "https://localhost:8080/"
        },
        "id": "flUbDqQwZopa",
        "outputId": "a8b58501-9c0e-44cc-eea6-5839260daab6"
      },
      "execution_count": null,
      "outputs": [
        {
          "output_type": "stream",
          "name": "stdout",
          "text": [
            "['yellow' 'red' 'white' 'blue' nan]\n",
            "['high' 'medium' 'low' nan]\n",
            "['A' 'B' 'C' nan]\n",
            "['House' 'Condo' 'Tenant' nan]\n",
            "['Phone' 'Broker' 'Online' nan]\n",
            "['F' 'M' nan]\n",
            "['white' 'red' 'blue' 'yellow' nan]\n",
            "['high' 'low' 'medium' nan]\n",
            "['C' 'A' 'B' nan]\n",
            "['House' 'Condo' 'Tenant' nan]\n",
            "['Broker' 'Phone' 'Online' nan]\n",
            "['F' 'M' nan]\n"
          ]
        }
      ]
    },
    {
      "cell_type": "markdown",
      "source": [
        "The number of unique values in each column is at most 4 (except nan, we'll delete it soon.)\n",
        "\n",
        "I can encode those as dummy variables. And after that, I will do the PCA to reduce dimension."
      ],
      "metadata": {
        "id": "MqbGICHki8mL"
      }
    },
    {
      "cell_type": "code",
      "source": [
        "# create dummy variables for categorical columns\n",
        "Train = pd.get_dummies(Train, columns=['house.color', 'credit', 'coverage.type', 'dwelling.type', 'sales.channel', 'ni.gender'])\n",
        "Test = pd.get_dummies(Test, columns=['house.color', 'credit', 'coverage.type', 'dwelling.type', 'sales.channel', 'ni.gender'])"
      ],
      "metadata": {
        "id": "ZCsjFUtssEwU"
      },
      "execution_count": null,
      "outputs": []
    },
    {
      "cell_type": "code",
      "source": [
        "# check shape of them\n",
        "print(Train.shape)\n",
        "print(Test.shape)\n",
        "# seems like too each has many columns. -> reduce dimension by doing PCA, but after dropping some missing values first!"
      ],
      "metadata": {
        "colab": {
          "base_uri": "https://localhost:8080/"
        },
        "id": "x6AozX2arSfA",
        "outputId": "5375bb20-0172-414e-f990-69eca85a4c53"
      },
      "execution_count": null,
      "outputs": [
        {
          "output_type": "stream",
          "name": "stdout",
          "text": [
            "(700232, 29)\n",
            "(344891, 29)\n"
          ]
        }
      ]
    },
    {
      "cell_type": "markdown",
      "source": [
        "The number of columns has changed from 17 to 29. But don't worry too much! will do PCA later."
      ],
      "metadata": {
        "id": "u95hd4PUjPks"
      }
    },
    {
      "cell_type": "markdown",
      "source": [
        "## 4. Drop missing values in Train dataset\n",
        "\n",
        "---\n",
        "\n"
      ],
      "metadata": {
        "id": "4SJlA5uWl1m3"
      }
    },
    {
      "cell_type": "markdown",
      "source": [
        "Now time to check on missing values."
      ],
      "metadata": {
        "id": "M4wlSUp7iRFI"
      }
    },
    {
      "cell_type": "code",
      "source": [
        "# check how much do we have missing values.\n",
        "print('Train has', Train.isna().sum().sum(), 'missing values')\n",
        "print('Test has', Test.isna().sum().sum(), 'missing values')"
      ],
      "metadata": {
        "colab": {
          "base_uri": "https://localhost:8080/"
        },
        "id": "8LoDsP1cN4Hc",
        "outputId": "5dbebf3c-3189-499e-e275-8d1cbc237b7a"
      },
      "execution_count": null,
      "outputs": [
        {
          "output_type": "stream",
          "name": "stdout",
          "text": [
            "Train has 5810 missing values\n",
            "Test has 2866 missing values\n"
          ]
        }
      ]
    },
    {
      "cell_type": "markdown",
      "source": [
        "For both of X_train and X_test dataset doesn't have much of missing values compared to the number of their total rows.\n",
        "\n",
        "So, dropping those missing values wouldn't hurt models as much!"
      ],
      "metadata": {
        "id": "V1mBdKVn1SlS"
      }
    },
    {
      "cell_type": "code",
      "source": [
        "# drop missing values of training dataset\n",
        "Train = Train.dropna()"
      ],
      "metadata": {
        "id": "FeSsLxmeFINc"
      },
      "execution_count": null,
      "outputs": []
    },
    {
      "cell_type": "markdown",
      "source": [
        "## 5. Impute missing values in Test dataset\n",
        "\n",
        "---\n",
        "\n"
      ],
      "metadata": {
        "id": "jrgrtEtOl9iu"
      }
    },
    {
      "cell_type": "markdown",
      "source": [
        "We can't drop missing values in Test dataset, because we want to know what real data looks like after training dataset. So, we need to impute missing values in Test dataset.\n",
        "\n",
        "First, let's take a closer look at the missing data in Test dataset."
      ],
      "metadata": {
        "id": "0xzOmGLhq7Go"
      }
    },
    {
      "cell_type": "code",
      "source": [
        "# let's check which columns has missing values\n",
        "Test.isna().sum()"
      ],
      "metadata": {
        "colab": {
          "base_uri": "https://localhost:8080/"
        },
        "id": "fiPnTi3od5XC",
        "outputId": "1c78935d-db33-46f1-aecc-f76fed1407bf"
      },
      "execution_count": null,
      "outputs": [
        {
          "output_type": "execute_result",
          "data": {
            "text/plain": [
              "year                      0\n",
              "zip.code                313\n",
              "ni.age                  293\n",
              "len.at.res              295\n",
              "premium                 331\n",
              "ni.marital.status       345\n",
              "n.adults                323\n",
              "n.children              319\n",
              "tenure                  323\n",
              "claim.ind               324\n",
              "cancel                    0\n",
              "house.color_blue          0\n",
              "house.color_red           0\n",
              "house.color_white         0\n",
              "house.color_yellow        0\n",
              "credit_high               0\n",
              "credit_low                0\n",
              "credit_medium             0\n",
              "coverage.type_A           0\n",
              "coverage.type_B           0\n",
              "coverage.type_C           0\n",
              "dwelling.type_Condo       0\n",
              "dwelling.type_House       0\n",
              "dwelling.type_Tenant      0\n",
              "sales.channel_Broker      0\n",
              "sales.channel_Online      0\n",
              "sales.channel_Phone       0\n",
              "ni.gender_F               0\n",
              "ni.gender_M               0\n",
              "dtype: int64"
            ]
          },
          "metadata": {},
          "execution_count": 17
        }
      ]
    },
    {
      "cell_type": "markdown",
      "source": [
        "Our target variable, 'cancel', doesn't have missing values.\n",
        "\n",
        "If we impute missing vaues to test dataset as a whole wouldn't hurt the model's result."
      ],
      "metadata": {
        "id": "WDqSnDonrAz2"
      }
    },
    {
      "cell_type": "code",
      "source": [
        "# use any() method to identify rows that contain missing values\n",
        "missing_rows = Test.isna().any(axis=1)\n",
        "# select only the rows containing missing values\n",
        "missing_values = Test[missing_rows]\n",
        "# let's take a look at missing values in Test dataset\n",
        "missing_values"
      ],
      "metadata": {
        "colab": {
          "base_uri": "https://localhost:8080/",
          "height": 487
        },
        "id": "92ZsWUluxIPq",
        "outputId": "344f574f-e526-440d-ca73-64a0d5e43229"
      },
      "execution_count": null,
      "outputs": [
        {
          "output_type": "execute_result",
          "data": {
            "text/plain": [
              "        year  zip.code  ni.age  len.at.res      premium  ni.marital.status  \\\n",
              "273     2013   98014.0    68.0   18.000000   997.586620                1.0   \n",
              "402     2016   80012.0    56.0         NaN   840.128719                1.0   \n",
              "605     2013   80101.0    54.0   16.000000   974.564308                NaN   \n",
              "636     2015   20165.0    51.0         NaN   915.702665                1.0   \n",
              "676     2016   15051.0     NaN   15.000000   901.107446                0.0   \n",
              "...      ...       ...     ...         ...          ...                ...   \n",
              "343938  2015   15012.0    58.0   21.478169   888.406996                1.0   \n",
              "343954  2015   15034.0    32.0   17.000000   843.971071                NaN   \n",
              "343998  2016   80047.0    41.0         NaN   931.800487                0.0   \n",
              "344536  2013   15035.0    49.0   21.000000   826.509375                0.0   \n",
              "344671  2013       NaN    52.0   19.000000  1019.018278                0.0   \n",
              "\n",
              "        n.adults  n.children  tenure  claim.ind  ...  coverage.type_B  \\\n",
              "273          3.0         1.0    19.0        NaN  ...                0   \n",
              "402          1.0         0.0     9.0        1.0  ...                1   \n",
              "605          2.0         1.0    11.0        1.0  ...                1   \n",
              "636          1.0         1.0    13.0        0.0  ...                0   \n",
              "676          1.0         0.0    16.0        0.0  ...                1   \n",
              "...          ...         ...     ...        ...  ...              ...   \n",
              "343938       3.0         4.0    13.0        NaN  ...                0   \n",
              "343954       2.0         0.0     5.0        0.0  ...                1   \n",
              "343998       1.0         0.0     0.0        0.0  ...                0   \n",
              "344536       2.0         0.0     NaN        1.0  ...                0   \n",
              "344671       1.0         0.0    14.0        0.0  ...                1   \n",
              "\n",
              "        coverage.type_C  dwelling.type_Condo  dwelling.type_House  \\\n",
              "273                   0                    0                    1   \n",
              "402                   0                    0                    1   \n",
              "605                   0                    1                    0   \n",
              "636                   0                    0                    1   \n",
              "676                   0                    0                    1   \n",
              "...                 ...                  ...                  ...   \n",
              "343938                1                    0                    1   \n",
              "343954                0                    0                    1   \n",
              "343998                0                    1                    0   \n",
              "344536                1                    0                    1   \n",
              "344671                0                    0                    1   \n",
              "\n",
              "        dwelling.type_Tenant  sales.channel_Broker  sales.channel_Online  \\\n",
              "273                        0                     0                     0   \n",
              "402                        0                     0                     0   \n",
              "605                        0                     0                     0   \n",
              "636                        0                     1                     0   \n",
              "676                        0                     1                     0   \n",
              "...                      ...                   ...                   ...   \n",
              "343938                     0                     1                     0   \n",
              "343954                     0                     1                     0   \n",
              "343998                     0                     1                     0   \n",
              "344536                     0                     1                     0   \n",
              "344671                     0                     1                     0   \n",
              "\n",
              "        sales.channel_Phone  ni.gender_F  ni.gender_M  \n",
              "273                       1            0            1  \n",
              "402                       1            0            1  \n",
              "605                       1            1            0  \n",
              "636                       0            0            1  \n",
              "676                       0            0            1  \n",
              "...                     ...          ...          ...  \n",
              "343938                    0            1            0  \n",
              "343954                    0            1            0  \n",
              "343998                    0            0            1  \n",
              "344536                    0            1            0  \n",
              "344671                    0            0            1  \n",
              "\n",
              "[2857 rows x 29 columns]"
            ],
            "text/html": [
              "\n",
              "  <div id=\"df-8a3ff41a-1a5a-4a83-a2d1-2d8525285809\">\n",
              "    <div class=\"colab-df-container\">\n",
              "      <div>\n",
              "<style scoped>\n",
              "    .dataframe tbody tr th:only-of-type {\n",
              "        vertical-align: middle;\n",
              "    }\n",
              "\n",
              "    .dataframe tbody tr th {\n",
              "        vertical-align: top;\n",
              "    }\n",
              "\n",
              "    .dataframe thead th {\n",
              "        text-align: right;\n",
              "    }\n",
              "</style>\n",
              "<table border=\"1\" class=\"dataframe\">\n",
              "  <thead>\n",
              "    <tr style=\"text-align: right;\">\n",
              "      <th></th>\n",
              "      <th>year</th>\n",
              "      <th>zip.code</th>\n",
              "      <th>ni.age</th>\n",
              "      <th>len.at.res</th>\n",
              "      <th>premium</th>\n",
              "      <th>ni.marital.status</th>\n",
              "      <th>n.adults</th>\n",
              "      <th>n.children</th>\n",
              "      <th>tenure</th>\n",
              "      <th>claim.ind</th>\n",
              "      <th>...</th>\n",
              "      <th>coverage.type_B</th>\n",
              "      <th>coverage.type_C</th>\n",
              "      <th>dwelling.type_Condo</th>\n",
              "      <th>dwelling.type_House</th>\n",
              "      <th>dwelling.type_Tenant</th>\n",
              "      <th>sales.channel_Broker</th>\n",
              "      <th>sales.channel_Online</th>\n",
              "      <th>sales.channel_Phone</th>\n",
              "      <th>ni.gender_F</th>\n",
              "      <th>ni.gender_M</th>\n",
              "    </tr>\n",
              "  </thead>\n",
              "  <tbody>\n",
              "    <tr>\n",
              "      <th>273</th>\n",
              "      <td>2013</td>\n",
              "      <td>98014.0</td>\n",
              "      <td>68.0</td>\n",
              "      <td>18.000000</td>\n",
              "      <td>997.586620</td>\n",
              "      <td>1.0</td>\n",
              "      <td>3.0</td>\n",
              "      <td>1.0</td>\n",
              "      <td>19.0</td>\n",
              "      <td>NaN</td>\n",
              "      <td>...</td>\n",
              "      <td>0</td>\n",
              "      <td>0</td>\n",
              "      <td>0</td>\n",
              "      <td>1</td>\n",
              "      <td>0</td>\n",
              "      <td>0</td>\n",
              "      <td>0</td>\n",
              "      <td>1</td>\n",
              "      <td>0</td>\n",
              "      <td>1</td>\n",
              "    </tr>\n",
              "    <tr>\n",
              "      <th>402</th>\n",
              "      <td>2016</td>\n",
              "      <td>80012.0</td>\n",
              "      <td>56.0</td>\n",
              "      <td>NaN</td>\n",
              "      <td>840.128719</td>\n",
              "      <td>1.0</td>\n",
              "      <td>1.0</td>\n",
              "      <td>0.0</td>\n",
              "      <td>9.0</td>\n",
              "      <td>1.0</td>\n",
              "      <td>...</td>\n",
              "      <td>1</td>\n",
              "      <td>0</td>\n",
              "      <td>0</td>\n",
              "      <td>1</td>\n",
              "      <td>0</td>\n",
              "      <td>0</td>\n",
              "      <td>0</td>\n",
              "      <td>1</td>\n",
              "      <td>0</td>\n",
              "      <td>1</td>\n",
              "    </tr>\n",
              "    <tr>\n",
              "      <th>605</th>\n",
              "      <td>2013</td>\n",
              "      <td>80101.0</td>\n",
              "      <td>54.0</td>\n",
              "      <td>16.000000</td>\n",
              "      <td>974.564308</td>\n",
              "      <td>NaN</td>\n",
              "      <td>2.0</td>\n",
              "      <td>1.0</td>\n",
              "      <td>11.0</td>\n",
              "      <td>1.0</td>\n",
              "      <td>...</td>\n",
              "      <td>1</td>\n",
              "      <td>0</td>\n",
              "      <td>1</td>\n",
              "      <td>0</td>\n",
              "      <td>0</td>\n",
              "      <td>0</td>\n",
              "      <td>0</td>\n",
              "      <td>1</td>\n",
              "      <td>1</td>\n",
              "      <td>0</td>\n",
              "    </tr>\n",
              "    <tr>\n",
              "      <th>636</th>\n",
              "      <td>2015</td>\n",
              "      <td>20165.0</td>\n",
              "      <td>51.0</td>\n",
              "      <td>NaN</td>\n",
              "      <td>915.702665</td>\n",
              "      <td>1.0</td>\n",
              "      <td>1.0</td>\n",
              "      <td>1.0</td>\n",
              "      <td>13.0</td>\n",
              "      <td>0.0</td>\n",
              "      <td>...</td>\n",
              "      <td>0</td>\n",
              "      <td>0</td>\n",
              "      <td>0</td>\n",
              "      <td>1</td>\n",
              "      <td>0</td>\n",
              "      <td>1</td>\n",
              "      <td>0</td>\n",
              "      <td>0</td>\n",
              "      <td>0</td>\n",
              "      <td>1</td>\n",
              "    </tr>\n",
              "    <tr>\n",
              "      <th>676</th>\n",
              "      <td>2016</td>\n",
              "      <td>15051.0</td>\n",
              "      <td>NaN</td>\n",
              "      <td>15.000000</td>\n",
              "      <td>901.107446</td>\n",
              "      <td>0.0</td>\n",
              "      <td>1.0</td>\n",
              "      <td>0.0</td>\n",
              "      <td>16.0</td>\n",
              "      <td>0.0</td>\n",
              "      <td>...</td>\n",
              "      <td>1</td>\n",
              "      <td>0</td>\n",
              "      <td>0</td>\n",
              "      <td>1</td>\n",
              "      <td>0</td>\n",
              "      <td>1</td>\n",
              "      <td>0</td>\n",
              "      <td>0</td>\n",
              "      <td>0</td>\n",
              "      <td>1</td>\n",
              "    </tr>\n",
              "    <tr>\n",
              "      <th>...</th>\n",
              "      <td>...</td>\n",
              "      <td>...</td>\n",
              "      <td>...</td>\n",
              "      <td>...</td>\n",
              "      <td>...</td>\n",
              "      <td>...</td>\n",
              "      <td>...</td>\n",
              "      <td>...</td>\n",
              "      <td>...</td>\n",
              "      <td>...</td>\n",
              "      <td>...</td>\n",
              "      <td>...</td>\n",
              "      <td>...</td>\n",
              "      <td>...</td>\n",
              "      <td>...</td>\n",
              "      <td>...</td>\n",
              "      <td>...</td>\n",
              "      <td>...</td>\n",
              "      <td>...</td>\n",
              "      <td>...</td>\n",
              "      <td>...</td>\n",
              "    </tr>\n",
              "    <tr>\n",
              "      <th>343938</th>\n",
              "      <td>2015</td>\n",
              "      <td>15012.0</td>\n",
              "      <td>58.0</td>\n",
              "      <td>21.478169</td>\n",
              "      <td>888.406996</td>\n",
              "      <td>1.0</td>\n",
              "      <td>3.0</td>\n",
              "      <td>4.0</td>\n",
              "      <td>13.0</td>\n",
              "      <td>NaN</td>\n",
              "      <td>...</td>\n",
              "      <td>0</td>\n",
              "      <td>1</td>\n",
              "      <td>0</td>\n",
              "      <td>1</td>\n",
              "      <td>0</td>\n",
              "      <td>1</td>\n",
              "      <td>0</td>\n",
              "      <td>0</td>\n",
              "      <td>1</td>\n",
              "      <td>0</td>\n",
              "    </tr>\n",
              "    <tr>\n",
              "      <th>343954</th>\n",
              "      <td>2015</td>\n",
              "      <td>15034.0</td>\n",
              "      <td>32.0</td>\n",
              "      <td>17.000000</td>\n",
              "      <td>843.971071</td>\n",
              "      <td>NaN</td>\n",
              "      <td>2.0</td>\n",
              "      <td>0.0</td>\n",
              "      <td>5.0</td>\n",
              "      <td>0.0</td>\n",
              "      <td>...</td>\n",
              "      <td>1</td>\n",
              "      <td>0</td>\n",
              "      <td>0</td>\n",
              "      <td>1</td>\n",
              "      <td>0</td>\n",
              "      <td>1</td>\n",
              "      <td>0</td>\n",
              "      <td>0</td>\n",
              "      <td>1</td>\n",
              "      <td>0</td>\n",
              "    </tr>\n",
              "    <tr>\n",
              "      <th>343998</th>\n",
              "      <td>2016</td>\n",
              "      <td>80047.0</td>\n",
              "      <td>41.0</td>\n",
              "      <td>NaN</td>\n",
              "      <td>931.800487</td>\n",
              "      <td>0.0</td>\n",
              "      <td>1.0</td>\n",
              "      <td>0.0</td>\n",
              "      <td>0.0</td>\n",
              "      <td>0.0</td>\n",
              "      <td>...</td>\n",
              "      <td>0</td>\n",
              "      <td>0</td>\n",
              "      <td>1</td>\n",
              "      <td>0</td>\n",
              "      <td>0</td>\n",
              "      <td>1</td>\n",
              "      <td>0</td>\n",
              "      <td>0</td>\n",
              "      <td>0</td>\n",
              "      <td>1</td>\n",
              "    </tr>\n",
              "    <tr>\n",
              "      <th>344536</th>\n",
              "      <td>2013</td>\n",
              "      <td>15035.0</td>\n",
              "      <td>49.0</td>\n",
              "      <td>21.000000</td>\n",
              "      <td>826.509375</td>\n",
              "      <td>0.0</td>\n",
              "      <td>2.0</td>\n",
              "      <td>0.0</td>\n",
              "      <td>NaN</td>\n",
              "      <td>1.0</td>\n",
              "      <td>...</td>\n",
              "      <td>0</td>\n",
              "      <td>1</td>\n",
              "      <td>0</td>\n",
              "      <td>1</td>\n",
              "      <td>0</td>\n",
              "      <td>1</td>\n",
              "      <td>0</td>\n",
              "      <td>0</td>\n",
              "      <td>1</td>\n",
              "      <td>0</td>\n",
              "    </tr>\n",
              "    <tr>\n",
              "      <th>344671</th>\n",
              "      <td>2013</td>\n",
              "      <td>NaN</td>\n",
              "      <td>52.0</td>\n",
              "      <td>19.000000</td>\n",
              "      <td>1019.018278</td>\n",
              "      <td>0.0</td>\n",
              "      <td>1.0</td>\n",
              "      <td>0.0</td>\n",
              "      <td>14.0</td>\n",
              "      <td>0.0</td>\n",
              "      <td>...</td>\n",
              "      <td>1</td>\n",
              "      <td>0</td>\n",
              "      <td>0</td>\n",
              "      <td>1</td>\n",
              "      <td>0</td>\n",
              "      <td>1</td>\n",
              "      <td>0</td>\n",
              "      <td>0</td>\n",
              "      <td>0</td>\n",
              "      <td>1</td>\n",
              "    </tr>\n",
              "  </tbody>\n",
              "</table>\n",
              "<p>2857 rows × 29 columns</p>\n",
              "</div>\n",
              "      <button class=\"colab-df-convert\" onclick=\"convertToInteractive('df-8a3ff41a-1a5a-4a83-a2d1-2d8525285809')\"\n",
              "              title=\"Convert this dataframe to an interactive table.\"\n",
              "              style=\"display:none;\">\n",
              "        \n",
              "  <svg xmlns=\"http://www.w3.org/2000/svg\" height=\"24px\"viewBox=\"0 0 24 24\"\n",
              "       width=\"24px\">\n",
              "    <path d=\"M0 0h24v24H0V0z\" fill=\"none\"/>\n",
              "    <path d=\"M18.56 5.44l.94 2.06.94-2.06 2.06-.94-2.06-.94-.94-2.06-.94 2.06-2.06.94zm-11 1L8.5 8.5l.94-2.06 2.06-.94-2.06-.94L8.5 2.5l-.94 2.06-2.06.94zm10 10l.94 2.06.94-2.06 2.06-.94-2.06-.94-.94-2.06-.94 2.06-2.06.94z\"/><path d=\"M17.41 7.96l-1.37-1.37c-.4-.4-.92-.59-1.43-.59-.52 0-1.04.2-1.43.59L10.3 9.45l-7.72 7.72c-.78.78-.78 2.05 0 2.83L4 21.41c.39.39.9.59 1.41.59.51 0 1.02-.2 1.41-.59l7.78-7.78 2.81-2.81c.8-.78.8-2.07 0-2.86zM5.41 20L4 18.59l7.72-7.72 1.47 1.35L5.41 20z\"/>\n",
              "  </svg>\n",
              "      </button>\n",
              "      \n",
              "  <style>\n",
              "    .colab-df-container {\n",
              "      display:flex;\n",
              "      flex-wrap:wrap;\n",
              "      gap: 12px;\n",
              "    }\n",
              "\n",
              "    .colab-df-convert {\n",
              "      background-color: #E8F0FE;\n",
              "      border: none;\n",
              "      border-radius: 50%;\n",
              "      cursor: pointer;\n",
              "      display: none;\n",
              "      fill: #1967D2;\n",
              "      height: 32px;\n",
              "      padding: 0 0 0 0;\n",
              "      width: 32px;\n",
              "    }\n",
              "\n",
              "    .colab-df-convert:hover {\n",
              "      background-color: #E2EBFA;\n",
              "      box-shadow: 0px 1px 2px rgba(60, 64, 67, 0.3), 0px 1px 3px 1px rgba(60, 64, 67, 0.15);\n",
              "      fill: #174EA6;\n",
              "    }\n",
              "\n",
              "    [theme=dark] .colab-df-convert {\n",
              "      background-color: #3B4455;\n",
              "      fill: #D2E3FC;\n",
              "    }\n",
              "\n",
              "    [theme=dark] .colab-df-convert:hover {\n",
              "      background-color: #434B5C;\n",
              "      box-shadow: 0px 1px 3px 1px rgba(0, 0, 0, 0.15);\n",
              "      filter: drop-shadow(0px 1px 2px rgba(0, 0, 0, 0.3));\n",
              "      fill: #FFFFFF;\n",
              "    }\n",
              "  </style>\n",
              "\n",
              "      <script>\n",
              "        const buttonEl =\n",
              "          document.querySelector('#df-8a3ff41a-1a5a-4a83-a2d1-2d8525285809 button.colab-df-convert');\n",
              "        buttonEl.style.display =\n",
              "          google.colab.kernel.accessAllowed ? 'block' : 'none';\n",
              "\n",
              "        async function convertToInteractive(key) {\n",
              "          const element = document.querySelector('#df-8a3ff41a-1a5a-4a83-a2d1-2d8525285809');\n",
              "          const dataTable =\n",
              "            await google.colab.kernel.invokeFunction('convertToInteractive',\n",
              "                                                     [key], {});\n",
              "          if (!dataTable) return;\n",
              "\n",
              "          const docLinkHtml = 'Like what you see? Visit the ' +\n",
              "            '<a target=\"_blank\" href=https://colab.research.google.com/notebooks/data_table.ipynb>data table notebook</a>'\n",
              "            + ' to learn more about interactive tables.';\n",
              "          element.innerHTML = '';\n",
              "          dataTable['output_type'] = 'display_data';\n",
              "          await google.colab.output.renderOutput(dataTable, element);\n",
              "          const docLink = document.createElement('div');\n",
              "          docLink.innerHTML = docLinkHtml;\n",
              "          element.appendChild(docLink);\n",
              "        }\n",
              "      </script>\n",
              "    </div>\n",
              "  </div>\n",
              "  "
            ]
          },
          "metadata": {},
          "execution_count": 18
        }
      ]
    },
    {
      "cell_type": "code",
      "source": [
        "# quick look at distribution of each missing value columns.\n",
        "missing_values.hist(figsize=(8,5))\n",
        "plt.tight_layout()\n",
        "plt.show()"
      ],
      "metadata": {
        "colab": {
          "base_uri": "https://localhost:8080/",
          "height": 507
        },
        "id": "PswZg8GbuTVM",
        "outputId": "969b48c0-9645-4b07-f530-e1e6df762f6a"
      },
      "execution_count": null,
      "outputs": [
        {
          "output_type": "display_data",
          "data": {
            "text/plain": [
              "<Figure size 800x500 with 30 Axes>"
            ],
            "image/png": "[encoded data removed]"
          },
          "metadata": {}
        }
      ]
    },
    {
      "cell_type": "markdown",
      "source": [
        "Impute missing values in Test dataset with mode values, because there are not much missing values in Test dataset, and imputing missing values with the most frequent values would not hurt model's performance as much."
      ],
      "metadata": {
        "id": "ObSbRAHyIhVK"
      }
    },
    {
      "cell_type": "code",
      "source": [
        "Test = Test.fillna(Test.mode()[['zip.code','ni.age', 'len.at.res', 'premium','ni.marital.status', 'n.adults', 'n.children', 'tenure', 'claim.ind']].to_dict('records')[0])"
      ],
      "metadata": {
        "id": "EXtZRulseyaU"
      },
      "execution_count": null,
      "outputs": []
    },
    {
      "cell_type": "code",
      "source": [
        "# check the shape\n",
        "print(\"Train shape:\", Train.shape)\n",
        "print(\"Test shape:\", Test.shape)"
      ],
      "metadata": {
        "colab": {
          "base_uri": "https://localhost:8080/"
        },
        "id": "yKax_xKEIU5z",
        "outputId": "ea2291c6-ca21-4151-a22f-e9152d9a326d"
      },
      "execution_count": null,
      "outputs": [
        {
          "output_type": "stream",
          "name": "stdout",
          "text": [
            "Train shape: (694447, 29)\n",
            "Test shape: (344891, 29)\n"
          ]
        }
      ]
    },
    {
      "cell_type": "markdown",
      "source": [
        "## 6. Separate to X_train, X_test, y_train, and y_test\n",
        "\n",
        "\n",
        "---\n",
        "\n"
      ],
      "metadata": {
        "id": "OJEmb9Jzmajq"
      }
    },
    {
      "cell_type": "markdown",
      "source": [
        "Finally! separate to X_train, X_test, y_train, and y_test. Almost there to fit a model!"
      ],
      "metadata": {
        "id": "xUybbxn0Itl3"
      }
    },
    {
      "cell_type": "code",
      "source": [
        "# now separate them\n",
        "X_train = Train.drop(['cancel'], axis = 1)\n",
        "X_test = Test.drop(['cancel'], axis = 1)\n",
        "y_train = Train['cancel']\n",
        "y_test = Test['cancel']"
      ],
      "metadata": {
        "id": "28VUE686Di4j"
      },
      "execution_count": null,
      "outputs": []
    },
    {
      "cell_type": "markdown",
      "source": [
        "## 7. Min/Max Scaler\n",
        "\n",
        "\n",
        "---\n",
        "\n"
      ],
      "metadata": {
        "id": "9kBgy7o5mdls"
      }
    },
    {
      "cell_type": "markdown",
      "source": [
        "scale X dataset before jumping to modeling"
      ],
      "metadata": {
        "id": "cOKPCJgjIy4x"
      }
    },
    {
      "cell_type": "code",
      "source": [
        "scaler = MinMaxScaler()\n",
        "X_train = scaler.fit_transform(X_train) # learn and apply to train (from train)\n",
        "X_test = scaler.transform(X_test) # simply TRANSFORM/APPLY to the test data (no leakage!)"
      ],
      "metadata": {
        "id": "2D_jP1IkHzw_"
      },
      "execution_count": null,
      "outputs": []
    },
    {
      "cell_type": "markdown",
      "source": [
        "## 8. PCA to reduce dimension\n",
        "\n",
        "\n",
        "---\n",
        "\n",
        "\n",
        "\n"
      ],
      "metadata": {
        "id": "MWqd9ZzRmjVk"
      }
    },
    {
      "cell_type": "markdown",
      "source": [
        "After min/max scaler, do PCA to reduce dimension!\n",
        "Fit PCA on the standardized training data"
      ],
      "metadata": {
        "id": "PdEmXGEbJKur"
      }
    },
    {
      "cell_type": "code",
      "source": [
        "pca = PCA(n_components = 0.95) # this means keep components that maintain 95% of the variance\n",
        "X_train_pca = pca.fit_transform(X_train)"
      ],
      "metadata": {
        "id": "InuYhZ2vCuBm"
      },
      "execution_count": null,
      "outputs": []
    },
    {
      "cell_type": "code",
      "source": [
        "X_train_pca = pd.DataFrame(X_train_pca)\n",
        "X_train_pca.shape"
      ],
      "metadata": {
        "colab": {
          "base_uri": "https://localhost:8080/"
        },
        "id": "JNm4SPFAEpud",
        "outputId": "ced48b6a-8594-4aeb-cfdf-b70e14caca67"
      },
      "execution_count": null,
      "outputs": [
        {
          "output_type": "execute_result",
          "data": {
            "text/plain": [
              "(694447, 15)"
            ]
          },
          "metadata": {},
          "execution_count": 25
        }
      ]
    },
    {
      "cell_type": "markdown",
      "source": [
        "See how X_train dataset column reduced to 15 instead of 29?"
      ],
      "metadata": {
        "id": "omc6JPgDJV0f"
      }
    },
    {
      "cell_type": "markdown",
      "source": [
        "Now apply that PCA to the test data"
      ],
      "metadata": {
        "id": "TZqKhsxtJfBK"
      }
    },
    {
      "cell_type": "code",
      "source": [
        "X_test_pca = pca.transform(X_test)"
      ],
      "metadata": {
        "id": "eDrcmEdXEtlL"
      },
      "execution_count": null,
      "outputs": []
    },
    {
      "cell_type": "code",
      "source": [
        "X_test_pca = pd.DataFrame(X_test_pca)\n",
        "X_test_pca.shape"
      ],
      "metadata": {
        "id": "CApdG1_6Evrf",
        "colab": {
          "base_uri": "https://localhost:8080/"
        },
        "outputId": "c61a5e0e-df3f-44ac-d6e1-8f4ecca81cdc"
      },
      "execution_count": null,
      "outputs": [
        {
          "output_type": "execute_result",
          "data": {
            "text/plain": [
              "(344891, 15)"
            ]
          },
          "metadata": {},
          "execution_count": 27
        }
      ]
    },
    {
      "cell_type": "code",
      "source": [
        "# sanity check! check the shape of each dataset\n",
        "print(X_train_pca.shape)\n",
        "print(X_test_pca.shape)\n",
        "print(y_train.shape)\n",
        "print(y_test.shape)\n",
        "# looks good!"
      ],
      "metadata": {
        "id": "ncEMsphPL6OW",
        "colab": {
          "base_uri": "https://localhost:8080/"
        },
        "outputId": "1fa032de-ec9e-4d27-8f86-0bca1026fc6a"
      },
      "execution_count": null,
      "outputs": [
        {
          "output_type": "stream",
          "name": "stdout",
          "text": [
            "(694447, 15)\n",
            "(344891, 15)\n",
            "(694447,)\n",
            "(344891,)\n"
          ]
        }
      ]
    },
    {
      "cell_type": "markdown",
      "source": [
        "## 9. Resample with SMOTE\n",
        "\n",
        "\n",
        "---\n",
        "\n"
      ],
      "metadata": {
        "id": "rodjibFvmo0n"
      }
    },
    {
      "cell_type": "markdown",
      "source": [
        "Let's check how y_train is distributed."
      ],
      "metadata": {
        "id": "_8e_0a9hLTGc"
      }
    },
    {
      "cell_type": "code",
      "source": [
        "Counter(y_train)"
      ],
      "metadata": {
        "id": "5HUgLzcBAnDB",
        "colab": {
          "base_uri": "https://localhost:8080/"
        },
        "outputId": "b84069c6-b68d-41a5-d9c4-f00b3831fe86"
      },
      "execution_count": null,
      "outputs": [
        {
          "output_type": "execute_result",
          "data": {
            "text/plain": [
              "Counter({0: 492416, 2: 151952, 1: 50079})"
            ]
          },
          "metadata": {},
          "execution_count": 29
        }
      ]
    },
    {
      "cell_type": "markdown",
      "source": [
        "Way too imbalanced! use SMOTE to balance categories."
      ],
      "metadata": {
        "id": "ZfKt-TsJLXLd"
      }
    },
    {
      "cell_type": "markdown",
      "source": [
        "Let's see how it is distributed before SMOTE."
      ],
      "metadata": {
        "id": "yLiggaEVOLxy"
      }
    },
    {
      "cell_type": "code",
      "source": [
        "counter = Counter(y_train)\n",
        "for label, _ in counter.items():\n",
        "    row_ix = where(y_train == label)[0]\n",
        "    plt.scatter(X_train_pca.iloc[row_ix, 0], X_train_pca.iloc[row_ix, 1], label=str(label))\n",
        "plt.legend()\n",
        "plt.title('Scatterplot of PCA-transformed data with categories in y_train')\n",
        "plt.show()"
      ],
      "metadata": {
        "colab": {
          "base_uri": "https://localhost:8080/",
          "height": 507
        },
        "id": "kiTeF3P4MstD",
        "outputId": "80ae1046-93c2-4778-db49-7557f54405b3"
      },
      "execution_count": null,
      "outputs": [
        {
          "output_type": "stream",
          "name": "stderr",
          "text": [
            "/usr/local/lib/python3.9/dist-packages/IPython/core/pylabtools.py:151: UserWarning: Creating legend with loc=\"best\" can be slow with large amounts of data.\n",
            "  fig.canvas.print_figure(bytes_io, **kw)\n"
          ]
        },
        {
          "output_type": "display_data",
          "data": {
            "text/plain": [
              "<Figure size 640x480 with 1 Axes>"
            ],
            "image/png": "[encoded data removed]"
          },
          "metadata": {}
        }
      ]
    },
    {
      "cell_type": "markdown",
      "source": [
        "Time to resample with SMOTE"
      ],
      "metadata": {
        "id": "N69qz5srPKho"
      }
    },
    {
      "cell_type": "code",
      "source": [
        "# Use SMOTE oversampling method to balance 0s, 1s, and 2s\n",
        "\n",
        "# transform the dataset\n",
        "oversample = SMOTE(k_neighbors=9)\n",
        "\n",
        "# fit on the train model in resample\n",
        "X_res, y_res = oversample.fit_resample(X_train_pca, y_train)\n",
        "# summarize the new class distribution\n",
        "counter = Counter(y_res)\n",
        "print(counter)"
      ],
      "metadata": {
        "id": "Ph8crMilZuvy",
        "colab": {
          "base_uri": "https://localhost:8080/"
        },
        "outputId": "210939f2-e369-4ab5-d29f-9089c3d3a320"
      },
      "execution_count": null,
      "outputs": [
        {
          "output_type": "stream",
          "name": "stdout",
          "text": [
            "Counter({0: 492416, 2: 492416, 1: 492416})\n"
          ]
        }
      ]
    },
    {
      "cell_type": "markdown",
      "source": [
        "Neat!"
      ],
      "metadata": {
        "id": "LviZLNPZPNYE"
      }
    },
    {
      "cell_type": "code",
      "source": [
        "counter = Counter(y_res)\n",
        "for label, _ in counter.items():\n",
        "    row_ix = where(y_res == label)[0]\n",
        "    plt.scatter(X_res.iloc[row_ix, 0], X_res.iloc[row_ix, 1], label=str(label))\n",
        "plt.legend()\n",
        "plt.title('Scatterplot of PCA-transformed data with categories in y_res')\n",
        "plt.show()"
      ],
      "metadata": {
        "colab": {
          "base_uri": "https://localhost:8080/",
          "height": 507
        },
        "id": "2wNC8zlYObqz",
        "outputId": "a52d364c-0082-4747-b036-1a2209166f30"
      },
      "execution_count": null,
      "outputs": [
        {
          "output_type": "stream",
          "name": "stderr",
          "text": [
            "/usr/local/lib/python3.9/dist-packages/IPython/core/pylabtools.py:151: UserWarning: Creating legend with loc=\"best\" can be slow with large amounts of data.\n",
            "  fig.canvas.print_figure(bytes_io, **kw)\n"
          ]
        },
        {
          "output_type": "display_data",
          "data": {
            "text/plain": [
              "<Figure size 640x480 with 1 Axes>"
            ],
            "image/png": "[encoded data removed]"
          },
          "metadata": {}
        }
      ]
    },
    {
      "cell_type": "markdown",
      "source": [
        "Now we're good to go to modeling."
      ],
      "metadata": {
        "id": "T136iuB9LaPG"
      }
    },
    {
      "cell_type": "markdown",
      "source": [
        "## Modeling (20 points)\n",
        "* You may perform your modeling in a different notebook (to be submitted as an appendix), but you must run your final and BEST model here and all output must be displayed.\n",
        "  * It's up to you to decide what the best pre-processing steps should be!"
      ],
      "metadata": {
        "id": "6E3lLaKKFxUl"
      }
    },
    {
      "cell_type": "markdown",
      "source": [
        "### Spot checking"
      ],
      "metadata": {
        "id": "doFojBcbUdtp"
      }
    },
    {
      "cell_type": "code",
      "source": [
        "# preprocessing\n",
        "from sklearn.pipeline import Pipeline\n",
        "from sklearn.model_selection import train_test_split\n",
        "from sklearn.model_selection import KFold\n",
        "from sklearn.preprocessing import StandardScaler"
      ],
      "metadata": {
        "id": "mHPU6i4WVCh4"
      },
      "execution_count": null,
      "outputs": []
    },
    {
      "cell_type": "code",
      "source": [
        "####################################################\n",
        "# Spot-Check Algorithms\n",
        "# for spot-checking, you generally accept defaults - just looking for a basic feel\n",
        "# of whether or not you have predictive data...\n",
        "\n",
        "models = []\n",
        "models.append(('LR', LogisticRegression(max_iter=100000000))) # sometimes, for spot checking, you need to up the iterations!\n",
        "models.append(('KNN', KNeighborsClassifier()))\n",
        "models.append(('CART', DecisionTreeClassifier()))\n",
        "models.append(('NB', GaussianNB()))"
      ],
      "metadata": {
        "id": "Qfu0Kgm-UhJD"
      },
      "execution_count": null,
      "outputs": []
    },
    {
      "cell_type": "code",
      "source": [
        "##################################################\n",
        "# evaluate each model in turn\n",
        "results = []\n",
        "names = []\n",
        "seed = 123\n",
        "\n",
        "for name, model in models:\n",
        "\tkfold = KFold(n_splits=10, random_state=seed, shuffle=True)\n",
        "\tcv_results = cross_val_score(model, X_train_pca, y_train, cv=kfold, scoring='accuracy')\n",
        "\tresults.append(cv_results)\n",
        "\tnames.append(name)\n",
        "\tmsg = \"%s: %f (%f)\" % (name, cv_results.mean(), cv_results.std())\n",
        "\tprint(msg)"
      ],
      "metadata": {
        "colab": {
          "base_uri": "https://localhost:8080/"
        },
        "id": "Cun3k9sSUtBF",
        "outputId": "2eb42c30-ffdf-4ea9-bdd3-3f253009e0a4"
      },
      "execution_count": null,
      "outputs": [
        {
          "output_type": "stream",
          "name": "stdout",
          "text": [
            "LR: 0.717053 (0.001093)\n",
            "KNN: 0.691913 (0.001254)\n",
            "CART: 0.618468 (0.001754)\n",
            "NB: 0.691304 (0.001457)\n"
          ]
        }
      ]
    },
    {
      "cell_type": "code",
      "source": [
        "# Compare Algorithms\n",
        "plt.boxplot(results, labels=names)\n",
        "plt.suptitle('Algorithm Comparison')\n",
        "plt.rcParams[\"figure.figsize\"] = (10,10)\n",
        "plt.show()"
      ],
      "metadata": {
        "colab": {
          "base_uri": "https://localhost:8080/",
          "height": 478
        },
        "id": "5x30LQKkXT0d",
        "outputId": "bd8ece4c-017c-4d23-ed25-d72ddd128a47"
      },
      "execution_count": null,
      "outputs": [
        {
          "output_type": "display_data",
          "data": {
            "text/plain": [
              "<Figure size 640x480 with 1 Axes>"
            ],
            "image/png": "[encoded data removed]"
          },
          "metadata": {}
        }
      ]
    },
    {
      "cell_type": "code",
      "source": [
        "#Importing modules\n",
        "from sklearn.linear_model import LogisticRegression\n",
        "#Classification error metrics\n",
        "from sklearn.metrics import classification_report\n",
        "from sklearn.metrics import confusion_matrix"
      ],
      "metadata": {
        "id": "swN3dbdv2j0T"
      },
      "execution_count": null,
      "outputs": []
    },
    {
      "cell_type": "markdown",
      "source": [
        "### Logistic Regression"
      ],
      "metadata": {
        "id": "gUXT3wMdH0Rn"
      }
    },
    {
      "cell_type": "code",
      "source": [
        "#Creating a variable to store the model\n",
        "log_reg = LogisticRegression()\n",
        "#Fitting the model on training data\n",
        "log_reg = log_reg.fit(X_train_pca,y_train)\n",
        "train_preds_lr = log_reg.predict(X_train_pca)\n",
        "test_preds_lr = log_reg.predict(X_test_pca)"
      ],
      "metadata": {
        "id": "kAXch6F53GdV"
      },
      "execution_count": null,
      "outputs": []
    },
    {
      "cell_type": "code",
      "source": [
        "#Checking raw probabilities\n",
        "log_reg.predict_proba(X_train_pca)"
      ],
      "metadata": {
        "colab": {
          "base_uri": "https://localhost:8080/"
        },
        "id": "5ydeB_jy4l7P",
        "outputId": "770b1428-b264-4ac8-cb53-b3749f627c24"
      },
      "execution_count": null,
      "outputs": [
        {
          "output_type": "execute_result",
          "data": {
            "text/plain": [
              "array([[0.74858291, 0.05143423, 0.19998286],\n",
              "       [0.56928739, 0.13997634, 0.29073627],\n",
              "       [0.80113417, 0.04710677, 0.15175906],\n",
              "       ...,\n",
              "       [0.48423259, 0.12221798, 0.39354943],\n",
              "       [0.54035704, 0.09244001, 0.36720295],\n",
              "       [0.72507831, 0.05609554, 0.21882614]])"
            ]
          },
          "metadata": {},
          "execution_count": 35
        }
      ]
    },
    {
      "cell_type": "code",
      "source": [],
      "metadata": {
        "id": "Xat6WPadkUeS"
      },
      "execution_count": null,
      "outputs": []
    },
    {
      "cell_type": "markdown",
      "source": [
        "### Decision Tree Classifier"
      ],
      "metadata": {
        "id": "CNVxPiVyIpbo"
      }
    },
    {
      "cell_type": "code",
      "source": [
        "from sklearn.tree import DecisionTreeClassifier\n",
        "dtc = DecisionTreeClassifier(min_samples_split=28)\n",
        "#Creating the hyperparameter grid\n",
        "\n",
        "# Necessary imports\n",
        "from scipy.stats import randint\n",
        "from sklearn.model_selection import RandomizedSearchCV\n",
        "\n",
        "# Creating the hyperparameter grid\n",
        "param_dist = {\"max_depth\": [3, 15],\n",
        "              \"max_features\": randint(1, 20),\n",
        "              \"min_samples_leaf\": randint(1, 20),\n",
        "              \"criterion\": [\"gini\", \"entropy\"]}\n",
        "\n",
        "# Instantiating Decision Tree classifier\n",
        "dtc = DecisionTreeClassifier()\n",
        "\n",
        "# Instantiating RandomizedSearchCV object\n",
        "dtc_cv = RandomizedSearchCV(dtc, param_dist, cv = 5)\n",
        "\n",
        "dtc_cv.fit(X_train_pca, y_train)\n",
        "\n",
        "# Print the tuned parameters and score\n",
        "print(\"Tuned Decision Tree Parameters: {}\".format(dtc_cv.best_params_))\n",
        "print(\"Best score is {}\".format(dtc_cv.best_score_))"
      ],
      "metadata": {
        "id": "ut7LcHQAvqR2",
        "colab": {
          "base_uri": "https://localhost:8080/"
        },
        "outputId": "c2db1fb3-dbe8-402b-948e-c543037ac443"
      },
      "execution_count": null,
      "outputs": [
        {
          "output_type": "stream",
          "name": "stdout",
          "text": [
            "Tuned Decision Tree Parameters: {'criterion': 'gini', 'max_depth': 3, 'max_features': 19, 'min_samples_leaf': 5}\n",
            "Best score is 0.7169546413960391\n"
          ]
        }
      ]
    },
    {
      "cell_type": "code",
      "source": [
        "#dtc = DecisionTreeClassifier(criterion='gini', max_depth=5, max_features=5, min_samples_leaf=4)"
      ],
      "metadata": {
        "id": "5nSHcdTM91EV"
      },
      "execution_count": null,
      "outputs": []
    },
    {
      "cell_type": "code",
      "source": [
        "#Fitting the model\n",
        "dtc = dtc.fit(X_train_pca, y_train)"
      ],
      "metadata": {
        "id": "O339sa_pv6If"
      },
      "execution_count": null,
      "outputs": []
    },
    {
      "cell_type": "code",
      "source": [
        "#Storing predictions\n",
        "train_preds_dtc = dtc.predict(X_train_pca)\n",
        "test_preds_dtc = dtc.predict(X_test_pca)"
      ],
      "metadata": {
        "id": "eX6Cvc4xwR1D"
      },
      "execution_count": null,
      "outputs": []
    },
    {
      "cell_type": "markdown",
      "source": [
        "### Random Forest Classifier"
      ],
      "metadata": {
        "id": "FtYc5vlP5AgV"
      }
    },
    {
      "cell_type": "code",
      "source": [
        "from sklearn.ensemble import RandomForestClassifier\n",
        "from sklearn.metrics import accuracy_score"
      ],
      "metadata": {
        "id": "B57SlXHJ7O5Q"
      },
      "execution_count": null,
      "outputs": []
    },
    {
      "cell_type": "code",
      "source": [
        "rfc = RandomForestClassifier(min_samples_split=15)\n",
        "#Fitting the model\n",
        "rfc = rfc.fit(X_train_pca,y_train)\n",
        "#Storing the predictions\n",
        "train_preds_rfc = rfc.predict(X_train_pca)\n",
        "test_preds_rfc = rfc.predict(X_test_pca)"
      ],
      "metadata": {
        "id": "vXwYb5XokYu-"
      },
      "execution_count": null,
      "outputs": []
    },
    {
      "cell_type": "code",
      "source": [
        "cm_rfc_train = confusion_matrix(y_train,train_preds_rfc)\n",
        "print(cm_rfc_train)"
      ],
      "metadata": {
        "colab": {
          "base_uri": "https://localhost:8080/"
        },
        "id": "VdVhLKjI6fjL",
        "outputId": "732d046e-3cdf-4127-9a0b-2efd37932838"
      },
      "execution_count": null,
      "outputs": [
        {
          "output_type": "stream",
          "name": "stdout",
          "text": [
            "[[488779    367   3270]\n",
            " [ 20519  26565   2995]\n",
            " [ 59992   1059  90901]]\n"
          ]
        }
      ]
    },
    {
      "cell_type": "markdown",
      "source": [
        "## Model Results (20 points)\n",
        "* Classification report and confusion report for train and test partition.\n",
        "  * You may use cross-validation to help pick the optimal hyperparameters for your model.\n"
      ],
      "metadata": {
        "id": "9gBnV_QKFz1e"
      }
    },
    {
      "cell_type": "markdown",
      "source": [
        "### Logistic Regression"
      ],
      "metadata": {
        "id": "8cAKsgrNKxhm"
      }
    },
    {
      "cell_type": "code",
      "source": [
        "train_results_lr = classification_report(y_train,train_preds_lr)\n",
        "print(train_results_lr)"
      ],
      "metadata": {
        "colab": {
          "base_uri": "https://localhost:8080/"
        },
        "id": "hBjUu5Sq5L0O",
        "outputId": "de9d0577-a873-4bbf-bbec-e0f314349bc8"
      },
      "execution_count": null,
      "outputs": [
        {
          "output_type": "stream",
          "name": "stderr",
          "text": [
            "/usr/local/lib/python3.9/dist-packages/sklearn/metrics/_classification.py:1344: UndefinedMetricWarning: Precision and F-score are ill-defined and being set to 0.0 in labels with no predicted samples. Use `zero_division` parameter to control this behavior.\n",
            "  _warn_prf(average, modifier, msg_start, len(result))\n",
            "/usr/local/lib/python3.9/dist-packages/sklearn/metrics/_classification.py:1344: UndefinedMetricWarning: Precision and F-score are ill-defined and being set to 0.0 in labels with no predicted samples. Use `zero_division` parameter to control this behavior.\n",
            "  _warn_prf(average, modifier, msg_start, len(result))\n"
          ]
        },
        {
          "output_type": "stream",
          "name": "stdout",
          "text": [
            "              precision    recall  f1-score   support\n",
            "\n",
            "           0       0.73      0.96      0.83    492416\n",
            "           1       0.00      0.00      0.00     50079\n",
            "           2       0.54      0.18      0.27    151952\n",
            "\n",
            "    accuracy                           0.72    694447\n",
            "   macro avg       0.42      0.38      0.36    694447\n",
            "weighted avg       0.64      0.72      0.65    694447\n",
            "\n"
          ]
        },
        {
          "output_type": "stream",
          "name": "stderr",
          "text": [
            "/usr/local/lib/python3.9/dist-packages/sklearn/metrics/_classification.py:1344: UndefinedMetricWarning: Precision and F-score are ill-defined and being set to 0.0 in labels with no predicted samples. Use `zero_division` parameter to control this behavior.\n",
            "  _warn_prf(average, modifier, msg_start, len(result))\n"
          ]
        }
      ]
    },
    {
      "cell_type": "code",
      "source": [
        "test_results_lr = classification_report(y_test,test_preds_lr)\n",
        "print(test_results_lr)"
      ],
      "metadata": {
        "colab": {
          "base_uri": "https://localhost:8080/"
        },
        "id": "mca69SeNAFg9",
        "outputId": "bec4c6c0-a0c1-430b-df5b-5331cf551171"
      },
      "execution_count": null,
      "outputs": [
        {
          "output_type": "stream",
          "name": "stderr",
          "text": [
            "/usr/local/lib/python3.9/dist-packages/sklearn/metrics/_classification.py:1344: UndefinedMetricWarning: Precision and F-score are ill-defined and being set to 0.0 in labels with no predicted samples. Use `zero_division` parameter to control this behavior.\n",
            "  _warn_prf(average, modifier, msg_start, len(result))\n",
            "/usr/local/lib/python3.9/dist-packages/sklearn/metrics/_classification.py:1344: UndefinedMetricWarning: Precision and F-score are ill-defined and being set to 0.0 in labels with no predicted samples. Use `zero_division` parameter to control this behavior.\n",
            "  _warn_prf(average, modifier, msg_start, len(result))\n"
          ]
        },
        {
          "output_type": "stream",
          "name": "stdout",
          "text": [
            "              precision    recall  f1-score   support\n",
            "\n",
            "           0       0.73      0.96      0.83    244522\n",
            "           1       0.00      0.00      0.00     24772\n",
            "           2       0.54      0.18      0.27     75597\n",
            "\n",
            "    accuracy                           0.72    344891\n",
            "   macro avg       0.42      0.38      0.36    344891\n",
            "weighted avg       0.64      0.72      0.65    344891\n",
            "\n"
          ]
        },
        {
          "output_type": "stream",
          "name": "stderr",
          "text": [
            "/usr/local/lib/python3.9/dist-packages/sklearn/metrics/_classification.py:1344: UndefinedMetricWarning: Precision and F-score are ill-defined and being set to 0.0 in labels with no predicted samples. Use `zero_division` parameter to control this behavior.\n",
            "  _warn_prf(average, modifier, msg_start, len(result))\n"
          ]
        }
      ]
    },
    {
      "cell_type": "code",
      "source": [
        "cm_lr_train = confusion_matrix(y_train,train_preds_lr)\n",
        "print(cm_lr_train)"
      ],
      "metadata": {
        "colab": {
          "base_uri": "https://localhost:8080/"
        },
        "id": "U9Wq46-n5kTK",
        "outputId": "2ea2ef6d-7ae1-4762-cf23-6f4c164c511e"
      },
      "execution_count": null,
      "outputs": [
        {
          "output_type": "stream",
          "name": "stdout",
          "text": [
            "[[471136      0  21280]\n",
            " [ 48404      0   1675]\n",
            " [125132      0  26820]]\n"
          ]
        }
      ]
    },
    {
      "cell_type": "code",
      "source": [
        "cm_lr_train_df = pd.DataFrame(cm_lr_train,\n",
        "                     index = ['0','1','2'],\n",
        "                     columns = ['0','1','2'])"
      ],
      "metadata": {
        "id": "wNs0251-t5VI"
      },
      "execution_count": null,
      "outputs": []
    },
    {
      "cell_type": "code",
      "source": [
        "plt.figure(figsize=(5,4))\n",
        "sns.heatmap(cm_lr_train_df, annot=True)\n",
        "plt.title('Confusion Matrix')\n",
        "plt.ylabel('Actual Value')\n",
        "plt.xlabel('Predicted Value')\n",
        "plt.show()"
      ],
      "metadata": {
        "colab": {
          "base_uri": "https://localhost:8080/",
          "height": 410
        },
        "id": "DTjrbW9_uiyK",
        "outputId": "5d4ecd54-d378-4567-b890-f71c436bb923"
      },
      "execution_count": null,
      "outputs": [
        {
          "output_type": "display_data",
          "data": {
            "text/plain": [
              "<Figure size 500x400 with 2 Axes>"
            ],
            "image/png": "[encoded data removed]"
          },
          "metadata": {}
        }
      ]
    },
    {
      "cell_type": "code",
      "source": [
        "cm_lr_test = confusion_matrix(y_test,test_preds_lr)\n",
        "print(cm_lr_test)"
      ],
      "metadata": {
        "colab": {
          "base_uri": "https://localhost:8080/"
        },
        "id": "nI3hUN1WBUg3",
        "outputId": "1aaa9da6-307a-45ce-8c08-7becce8ed9da"
      },
      "execution_count": null,
      "outputs": [
        {
          "output_type": "stream",
          "name": "stdout",
          "text": [
            "[[233878      0  10644]\n",
            " [ 23937      0    835]\n",
            " [ 62254      0  13343]]\n"
          ]
        }
      ]
    },
    {
      "cell_type": "code",
      "source": [
        "cm_lr_test_df = pd.DataFrame(cm_lr_test,\n",
        "                     index = ['0','1','2'],\n",
        "                     columns = ['0','1','2'])"
      ],
      "metadata": {
        "id": "YOd3z_-IBnyf"
      },
      "execution_count": null,
      "outputs": []
    },
    {
      "cell_type": "code",
      "source": [
        "plt.figure(figsize=(5,4))\n",
        "sns.heatmap(cm_lr_test_df, annot=True)\n",
        "plt.title('Confusion Matrix')\n",
        "plt.ylabel('Actual Value')\n",
        "plt.xlabel('Predicted Value')\n",
        "plt.show()"
      ],
      "metadata": {
        "colab": {
          "base_uri": "https://localhost:8080/",
          "height": 410
        },
        "id": "AsXHCoIXB1VQ",
        "outputId": "a998fdd5-1f91-4844-b858-48ef9cc77542"
      },
      "execution_count": null,
      "outputs": [
        {
          "output_type": "display_data",
          "data": {
            "text/plain": [
              "<Figure size 500x400 with 2 Axes>"
            ],
            "image/png": "[encoded data removed]"
          },
          "metadata": {}
        }
      ]
    },
    {
      "cell_type": "markdown",
      "source": [
        "### Decision Tree Classifier"
      ],
      "metadata": {
        "id": "1sPgmjrQvnuQ"
      }
    },
    {
      "cell_type": "code",
      "source": [
        "#Train confusion matrix\n",
        "cm_dtc_train = confusion_matrix(y_train,train_preds_dtc)\n",
        "print(cm_dtc_train)"
      ],
      "metadata": {
        "colab": {
          "base_uri": "https://localhost:8080/"
        },
        "id": "Em7R9Jp45aJt",
        "outputId": "f94dea0a-1447-40fd-f748-d0378640b0be"
      },
      "execution_count": null,
      "outputs": [
        {
          "output_type": "stream",
          "name": "stdout",
          "text": [
            "[[492416      0      0]\n",
            " [     0  50079      0]\n",
            " [     0      0 151952]]\n"
          ]
        }
      ]
    },
    {
      "cell_type": "code",
      "source": [
        "cm_dtc_train_df = pd.DataFrame(cm_dtc_train,\n",
        "                     index = ['0','1','2'],\n",
        "                     columns = ['0','1','2'])"
      ],
      "metadata": {
        "id": "dSeMj568D0Ug"
      },
      "execution_count": null,
      "outputs": []
    },
    {
      "cell_type": "code",
      "source": [
        "plt.figure(figsize=(5,4))\n",
        "sns.heatmap(cm_dtc_train_df, annot=True)\n",
        "plt.title('Confusion Matrix')\n",
        "plt.ylabel('Actual Value')\n",
        "plt.xlabel('Predicted Value')\n",
        "plt.show()"
      ],
      "metadata": {
        "colab": {
          "base_uri": "https://localhost:8080/",
          "height": 410
        },
        "id": "vTav9gopD7jM",
        "outputId": "129d780e-30ff-4b6d-c7ca-a7f70fc1b48e"
      },
      "execution_count": null,
      "outputs": [
        {
          "output_type": "display_data",
          "data": {
            "text/plain": [
              "<Figure size 500x400 with 2 Axes>"
            ],
            "image/png": "[encoded data removed]"
          },
          "metadata": {}
        }
      ]
    },
    {
      "cell_type": "code",
      "source": [
        "train_report_dtc = classification_report(y_train, train_preds_dtc)\n",
        "print(train_report_dtc)"
      ],
      "metadata": {
        "colab": {
          "base_uri": "https://localhost:8080/"
        },
        "id": "SLSBlYue45YV",
        "outputId": "4fb2c670-fdae-4deb-9546-d47571676a9a"
      },
      "execution_count": null,
      "outputs": [
        {
          "output_type": "stream",
          "name": "stdout",
          "text": [
            "              precision    recall  f1-score   support\n",
            "\n",
            "           0       1.00      1.00      1.00    492416\n",
            "           1       1.00      1.00      1.00     50079\n",
            "           2       1.00      1.00      1.00    151952\n",
            "\n",
            "    accuracy                           1.00    694447\n",
            "   macro avg       1.00      1.00      1.00    694447\n",
            "weighted avg       1.00      1.00      1.00    694447\n",
            "\n"
          ]
        }
      ]
    },
    {
      "cell_type": "code",
      "source": [
        "#Test confusion matrix\n",
        "cm_dtc_test = confusion_matrix(y_test,test_preds_dtc)\n",
        "print(cm_dtc_test)"
      ],
      "metadata": {
        "colab": {
          "base_uri": "https://localhost:8080/"
        },
        "id": "Nop246Xo4W65",
        "outputId": "3b538d69-ca9b-42d2-a1c7-a65928f4def5"
      },
      "execution_count": null,
      "outputs": [
        {
          "output_type": "stream",
          "name": "stdout",
          "text": [
            "[[183451  13141  47930]\n",
            " [ 12276   6438   6058]\n",
            " [ 45452   6091  24054]]\n"
          ]
        }
      ]
    },
    {
      "cell_type": "code",
      "source": [
        "cm_dtc_test_df = pd.DataFrame(cm_dtc_test,\n",
        "                     index = ['0','1','2'],\n",
        "                     columns = ['0','1','2'])"
      ],
      "metadata": {
        "id": "OxQ84tnHESGB"
      },
      "execution_count": null,
      "outputs": []
    },
    {
      "cell_type": "code",
      "source": [
        "plt.figure(figsize=(5,4))\n",
        "sns.heatmap(cm_dtc_test_df, annot=True)\n",
        "plt.title('Confusion Matrix')\n",
        "plt.ylabel('Actual Value')\n",
        "plt.xlabel('Predicted Value')\n",
        "plt.show()"
      ],
      "metadata": {
        "colab": {
          "base_uri": "https://localhost:8080/",
          "height": 410
        },
        "id": "bBBTNm9rEYmy",
        "outputId": "051f60ce-91ed-4ea1-a4da-8c8144d34939"
      },
      "execution_count": null,
      "outputs": [
        {
          "output_type": "display_data",
          "data": {
            "text/plain": [
              "<Figure size 500x400 with 2 Axes>"
            ],
            "image/png": "[encoded data removed]"
          },
          "metadata": {}
        }
      ]
    },
    {
      "cell_type": "code",
      "source": [
        "test_report_dtc = classification_report(y_test, test_preds_dtc)\n",
        "print(test_report_dtc)"
      ],
      "metadata": {
        "colab": {
          "base_uri": "https://localhost:8080/"
        },
        "id": "XASgqgp25Kaj",
        "outputId": "1fa9928c-d081-4290-972e-5887dee0ee8e"
      },
      "execution_count": null,
      "outputs": [
        {
          "output_type": "stream",
          "name": "stdout",
          "text": [
            "              precision    recall  f1-score   support\n",
            "\n",
            "           0       0.76      0.75      0.76    244522\n",
            "           1       0.25      0.26      0.26     24772\n",
            "           2       0.31      0.32      0.31     75597\n",
            "\n",
            "    accuracy                           0.62    344891\n",
            "   macro avg       0.44      0.44      0.44    344891\n",
            "weighted avg       0.62      0.62      0.62    344891\n",
            "\n"
          ]
        }
      ]
    },
    {
      "cell_type": "code",
      "source": [
        "#Show the tree\n",
        "#from sklearn.tree import export_graphviz\n",
        "#from six import StringIO\n",
        "#from IPython.display import Image\n",
        "#import pydotplus\n",
        "\n",
        "#dot_data = StringIO()\n",
        "#export_graphviz(dtc,\n",
        "                #out_file=dot_data,\n",
        "                #filled=True, rounded=True,\n",
        "                #special_characters=True)\n",
        "#graph = pydotplus.graph_from_dot_data(dot_data.getvalue())\n",
        "#Image(graph.create_png())"
      ],
      "metadata": {
        "id": "nFvwleefyuQh"
      },
      "execution_count": null,
      "outputs": []
    },
    {
      "cell_type": "markdown",
      "source": [
        "### Random Forest Classifier"
      ],
      "metadata": {
        "id": "sKMFupgJ7HKe"
      }
    },
    {
      "cell_type": "code",
      "source": [
        "cm_rfc_train_df = pd.DataFrame(cm_rfc_train,\n",
        "                     index = ['0','1','2'],\n",
        "                     columns = ['0','1','2'])"
      ],
      "metadata": {
        "id": "5X4AqIb4FKZa"
      },
      "execution_count": null,
      "outputs": []
    },
    {
      "cell_type": "code",
      "source": [
        "plt.figure(figsize=(5,4))\n",
        "sns.heatmap(cm_rfc_train_df, annot=True)\n",
        "plt.title('Confusion Matrix')\n",
        "plt.ylabel('Actual Value')\n",
        "plt.xlabel('Predicted Value')\n",
        "plt.show()"
      ],
      "metadata": {
        "colab": {
          "base_uri": "https://localhost:8080/",
          "height": 410
        },
        "id": "qNQd67NSFpao",
        "outputId": "1154e8af-999d-44e6-8d9c-63eb87c64a95"
      },
      "execution_count": null,
      "outputs": [
        {
          "output_type": "display_data",
          "data": {
            "text/plain": [
              "<Figure size 500x400 with 2 Axes>"
            ],
            "image/png": "[encoded data removed]"
          },
          "metadata": {}
        }
      ]
    },
    {
      "cell_type": "code",
      "source": [
        "cm_rfc_test= confusion_matrix(y_test,test_preds_rfc)\n",
        "print(cm_rfc_test)"
      ],
      "metadata": {
        "colab": {
          "base_uri": "https://localhost:8080/"
        },
        "id": "y90svIW66j1G",
        "outputId": "22e74996-21e4-493d-bbef-6b2a6e62821c"
      },
      "execution_count": null,
      "outputs": [
        {
          "output_type": "stream",
          "name": "stdout",
          "text": [
            "[[224712   2990  16820]\n",
            " [ 19734   2464   2574]\n",
            " [ 56029   1418  18150]]\n"
          ]
        }
      ]
    },
    {
      "cell_type": "code",
      "source": [
        "cm_rfc_test_df = pd.DataFrame(cm_rfc_test,\n",
        "                     index = ['0','1','2'],\n",
        "                     columns = ['0','1','2'])"
      ],
      "metadata": {
        "id": "NhA3VKCSGBN7"
      },
      "execution_count": null,
      "outputs": []
    },
    {
      "cell_type": "code",
      "source": [
        "plt.figure(figsize=(5,4))\n",
        "sns.heatmap(cm_rfc_test_df, annot=True)\n",
        "plt.title('Confusion Matrix')\n",
        "plt.ylabel('Actual Value')\n",
        "plt.xlabel('Predicted Value')\n",
        "plt.show()"
      ],
      "metadata": {
        "colab": {
          "base_uri": "https://localhost:8080/",
          "height": 410
        },
        "id": "LK6djpyrGNw4",
        "outputId": "95d24a04-aa05-4b21-eb52-25eaaff651de"
      },
      "execution_count": null,
      "outputs": [
        {
          "output_type": "display_data",
          "data": {
            "text/plain": [
              "<Figure size 500x400 with 2 Axes>"
            ],
            "image/png": "[encoded data removed]"
          },
          "metadata": {}
        }
      ]
    },
    {
      "cell_type": "code",
      "source": [
        "train_report_rfc = classification_report(y_train,train_preds_rfc)\n",
        "print(train_report_rfc)"
      ],
      "metadata": {
        "colab": {
          "base_uri": "https://localhost:8080/"
        },
        "id": "B1iPQkV4pyUa",
        "outputId": "c0818ba9-4ff6-45e9-c2c2-1b29cf5ec973"
      },
      "execution_count": null,
      "outputs": [
        {
          "output_type": "stream",
          "name": "stdout",
          "text": [
            "              precision    recall  f1-score   support\n",
            "\n",
            "           0       0.86      0.99      0.92    492416\n",
            "           1       0.95      0.53      0.68     50079\n",
            "           2       0.94      0.60      0.73    151952\n",
            "\n",
            "    accuracy                           0.87    694447\n",
            "   macro avg       0.91      0.71      0.78    694447\n",
            "weighted avg       0.88      0.87      0.86    694447\n",
            "\n"
          ]
        }
      ]
    },
    {
      "cell_type": "code",
      "source": [
        "test_report_rfc = classification_report(y_test,test_preds_rfc)\n",
        "print(test_report_rfc)"
      ],
      "metadata": {
        "colab": {
          "base_uri": "https://localhost:8080/"
        },
        "id": "NTgfbD0QqKVW",
        "outputId": "703adcae-4a27-4039-fc01-18e8a9ca106e"
      },
      "execution_count": null,
      "outputs": [
        {
          "output_type": "stream",
          "name": "stdout",
          "text": [
            "              precision    recall  f1-score   support\n",
            "\n",
            "           0       0.75      0.92      0.82    244522\n",
            "           1       0.36      0.10      0.16     24772\n",
            "           2       0.48      0.24      0.32     75597\n",
            "\n",
            "    accuracy                           0.71    344891\n",
            "   macro avg       0.53      0.42      0.43    344891\n",
            "weighted avg       0.66      0.71      0.67    344891\n",
            "\n"
          ]
        }
      ]
    },
    {
      "cell_type": "code",
      "source": [
        "#Creating empty place holders to store predictions\n",
        "#my_results = []\n",
        "#my_accuracy = []"
      ],
      "metadata": {
        "id": "8bmVkGeC7liG"
      },
      "execution_count": null,
      "outputs": []
    },
    {
      "cell_type": "code",
      "source": [
        "#Selecting 3 random columns from X as X_temp\n",
        "#X_temp = X_train_pca.sample(n=3, axis='columns')\n",
        "#print(X_temp)"
      ],
      "metadata": {
        "id": "dD0cJrvW_yeH"
      },
      "execution_count": null,
      "outputs": []
    },
    {
      "cell_type": "markdown",
      "source": [
        "Fitting a Decision Tree Model"
      ],
      "metadata": {
        "id": "AmGDXJHFAWO8"
      }
    },
    {
      "cell_type": "code",
      "source": [
        "#clf = DecisionTreeClassifier(min_samples_leaf=20)\n",
        "#clf = clf.fit(X_temp, y_train)"
      ],
      "metadata": {
        "id": "jxdJowCdAaTJ"
      },
      "execution_count": null,
      "outputs": []
    },
    {
      "cell_type": "code",
      "source": [
        "#Predicting X data from X_temp\n",
        "#preds = clf.predict(X_temp)\n",
        "#print(preds)"
      ],
      "metadata": {
        "id": "TbF2zFrbA3t5"
      },
      "execution_count": null,
      "outputs": []
    },
    {
      "cell_type": "code",
      "source": [
        "#Calculate error metrics\n",
        "#errors = accuracy_score(y_train, preds)\n",
        "#my_accuracy.append(errors)"
      ],
      "metadata": {
        "id": "-7ALzIJzBLHp"
      },
      "execution_count": null,
      "outputs": []
    },
    {
      "cell_type": "code",
      "source": [
        "#For loop\n",
        "#my_results = []\n",
        "#my_accuracy = []\n",
        "\n",
        "#for i in range(1000):\n",
        "  #print(i)\n",
        "  #X_temp = X_train_pca.sample(n=3,axis='columns', random_state=i)\n",
        "  #Fitting the model\n",
        "  #clf = DecisionTreeClassifier(min_samples_leaf=20)\n",
        "  #clf = clf.fit(X_temp,y_train)\n",
        "  #Predict the X data in X temp\n",
        "  #errors = accuracy_score(y_train,preds)\n",
        "  #Store the results\n",
        "  #my_results.append(preds)\n",
        "  #my_accuracy.append(errors)"
      ],
      "metadata": {
        "id": "adpXDXPNB1nO"
      },
      "execution_count": null,
      "outputs": []
    },
    {
      "cell_type": "markdown",
      "source": [
        "## Interpretability and Discussion (30 points)\n",
        "* Create permutation importance for top five variables\n",
        "* Create partial dependence plots for top five variables\n",
        "  * Don't forget about the `num_grid_points` argument to your PDP if it takes a long time to make the plot.\n",
        "* You may add other tables/plots/analyses to help tell your story!\n",
        "*  Use your model results and interpretability items to present what variables are most influential in causing a policy cancellation.\n",
        "  * We are looking for each team to provide a business recommendation based on the results of your model! We will take off substantial points if there is not a well-written and cohesive presentation of results."
      ],
      "metadata": {
        "id": "Ed277ib5F2cW"
      }
    },
    {
      "cell_type": "markdown",
      "source": [
        "## Conclusions (10 points)\n",
        "* Write five meaningful bullets (each bullet should be at least two sentences long) describing what you learned."
      ],
      "metadata": {
        "id": "sYBI6qP3F5iw"
      }
    },
    {
      "cell_type": "markdown",
      "source": [
        "## 🛷 Sliding grading scale\n",
        "* You are in direct competition with every other group in the class!\n",
        "* I expect everything in this notebook to be of sufficient quality - well-organized with lots of comments and cleaned up nice for presentation to management. I will deduct substantial points if this is just my code copy/pasted without any deep analysis.\n",
        "* Your 'starting grades' will range from an 80 to a 100 based on model F1 score for the TEST PARTITION (you can use the `F1 score` function from sci-kit learn to evaluate the final model.)\n",
        "* Of course, if something is missing from the above rubric, we will deduct points from your starting grade.\n",
        "  * If you came in first place and lost 10 points somewhere, your final grade is 100 - 10 = 90\n",
        "  * If you came in last place (for accuracy) and lost 10 points somewhere, your final grade is 80 - 10 = 70."
      ],
      "metadata": {
        "id": "NaxrafTcF64s"
      }
    },
    {
      "cell_type": "code",
      "execution_count": null,
      "metadata": {
        "id": "A_823ZpOO0_J"
      },
      "outputs": [],
      "source": [
        "# these are the results dave got from a very simple model - you should be able to\n",
        "# beat these results with some fine-tuning!"
      ]
    },
    {
      "cell_type": "markdown",
      "source": [
        "Please use nice big, descriptive subheaders so that it is easy to grade! Thank you!"
      ],
      "metadata": {
        "id": "VK9Pxun0UUk5"
      }
    }
  ],
  "metadata": {
    "colab": {
      "provenance": []
    },
    "kernelspec": {
      "display_name": "Python 3",
      "name": "python3"
    },
    "language_info": {
      "name": "python"
    }
  },
  "nbformat": 4,
  "nbformat_minor": 0
}